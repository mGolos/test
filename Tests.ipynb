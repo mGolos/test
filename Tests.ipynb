{
 "cells": [
  {
   "cell_type": "code",
   "execution_count": 1,
   "metadata": {},
   "outputs": [],
   "source": [
    "from selenium import webdriver\n",
    "#EXE_PATH = r'C:\\Users\\Utilisateur\\OneDrive\\Bureau\\Testing_TTC\\chromedriver.exe'\n",
    "EXE_PATH = r'D:\\Downloads\\chromedriver.exe'\n",
    "driver = webdriver.Chrome(executable_path=EXE_PATH)"
   ]
  },
  {
   "cell_type": "code",
   "execution_count": 7,
   "metadata": {},
   "outputs": [],
   "source": [
    "driver.get('https://test.trouvetoncomptable.fr')"
   ]
  },
  {
   "cell_type": "code",
   "execution_count": 2,
   "metadata": {},
   "outputs": [],
   "source": [
    "driver.get('https://staging.trouvetoncomptable.fr')"
   ]
  },
  {
   "cell_type": "markdown",
   "metadata": {},
   "source": [
    "# Tests "
   ]
  },
  {
   "cell_type": "code",
   "execution_count": 3,
   "metadata": {},
   "outputs": [],
   "source": [
    "# Bouton cliquer\n",
    "driver.find_element_by_id(\"rechercheBtn\").click()"
   ]
  },
  {
   "cell_type": "code",
   "execution_count": 4,
   "metadata": {},
   "outputs": [],
   "source": [
    "# Code régional\n",
    "driver.find_element_by_name(\"q\").send_keys(78);\n",
    "driver.find_element_by_id(\"rechercheBtn\").click();"
   ]
  },
  {
   "cell_type": "code",
   "execution_count": 5,
   "metadata": {},
   "outputs": [],
   "source": [
    "# Code postal existant\n",
    "driver.find_element_by_name(\"q\").send_keys(77400)\n",
    "driver.find_element_by_id(\"rechercheBtn\").click()"
   ]
  },
  {
   "cell_type": "code",
   "execution_count": 6,
   "metadata": {},
   "outputs": [],
   "source": [
    "# Code postal inexistant\n",
    "driver.find_element_by_name(\"q\").send_keys(99999)\n",
    "driver.find_element_by_id(\"rechercheBtn\").click()"
   ]
  },
  {
   "cell_type": "code",
   "execution_count": 7,
   "metadata": {},
   "outputs": [],
   "source": [
    "# Caractères spéciaux\n",
    "driver.find_element_by_name(\"q\").send_keys('@@')\n",
    "driver.find_element_by_id(\"rechercheBtn\").click()"
   ]
  },
  {
   "cell_type": "code",
   "execution_count": 10,
   "metadata": {},
   "outputs": [],
   "source": [
    "# Entrée vide\n",
    "driver.find_element_by_name(\"q\").send_keys('')\n",
    "driver.find_element_by_id(\"rechercheBtn\").click()"
   ]
  },
  {
   "cell_type": "code",
   "execution_count": 11,
   "metadata": {},
   "outputs": [],
   "source": [
    "test, test2 ='Validé', 'Invalid'"
   ]
  },
  {
   "cell_type": "markdown",
   "metadata": {
    "variables": {
     " test ": "Validé",
     " test2 ": "Invalid"
    }
   },
   "source": [
    "* Bouton *cliquer* : {{ test }}\n",
    "* Code postal : {{ test }}\n",
    "* Code département : <font color=\"red\">{{ test2 }}</font>\n",
    "* Charactères spéciaux : {{ test }}"
   ]
  },
  {
   "cell_type": "markdown",
   "metadata": {},
   "source": [
    "# Temps de réponse"
   ]
  },
  {
   "cell_type": "code",
   "execution_count": 20,
   "metadata": {
    "scrolled": true
   },
   "outputs": [
    {
     "name": "stdout",
     "output_type": "stream",
     "text": [
      "The slowest run took 4.50 times longer than the fastest. This could mean that an intermediate result is being cached.\n",
      "1.5 s ± 874 ms per loop (mean ± std. dev. of 7 runs, 1 loop each)\n"
     ]
    }
   ],
   "source": [
    "%%timeit\n",
    "driver.find_element_by_name(\"q\").send_keys(91);\n",
    "driver.find_element_by_id(\"rechercheBtn\").click();"
   ]
  }
 ],
 "metadata": {
  "hide_input": false,
  "kernelspec": {
   "display_name": "Python [conda env:env_test]",
   "language": "python",
   "name": "conda-env-env_test-py"
  },
  "language_info": {
   "codemirror_mode": {
    "name": "ipython",
    "version": 3
   },
   "file_extension": ".py",
   "mimetype": "text/x-python",
   "name": "python",
   "nbconvert_exporter": "python",
   "pygments_lexer": "ipython3",
   "version": "3.7.4"
  },
  "toc": {
   "base_numbering": 1,
   "nav_menu": {},
   "number_sections": true,
   "sideBar": true,
   "skip_h1_title": false,
   "title_cell": "Table of Contents",
   "title_sidebar": "Contents",
   "toc_cell": false,
   "toc_position": {},
   "toc_section_display": true,
   "toc_window_display": false
  },
  "varInspector": {
   "cols": {
    "lenName": 16,
    "lenType": 16,
    "lenVar": 40
   },
   "kernels_config": {
    "python": {
     "delete_cmd_postfix": "",
     "delete_cmd_prefix": "del ",
     "library": "var_list.py",
     "varRefreshCmd": "print(var_dic_list())"
    },
    "r": {
     "delete_cmd_postfix": ") ",
     "delete_cmd_prefix": "rm(",
     "library": "var_list.r",
     "varRefreshCmd": "cat(var_dic_list()) "
    }
   },
   "types_to_exclude": [
    "module",
    "function",
    "builtin_function_or_method",
    "instance",
    "_Feature"
   ],
   "window_display": false
  }
 },
 "nbformat": 4,
 "nbformat_minor": 2
}
