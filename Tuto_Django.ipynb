{
 "cells": [
  {
   "cell_type": "markdown",
   "metadata": {
    "slideshow": {
     "slide_type": "skip"
    },
    "toc": true
   },
   "source": [
    "<h1>Table of Contents<span class=\"tocSkip\"></span></h1>\n",
    "<div class=\"toc\"><ul class=\"toc-item\"><li><span><a href=\"#Prérequis\" data-toc-modified-id=\"Prérequis-1\"><span class=\"toc-item-num\">1&nbsp;&nbsp;</span>Prérequis</a></span><ul class=\"toc-item\"><li><span><a href=\"#Installation\" data-toc-modified-id=\"Installation-1.1\"><span class=\"toc-item-num\">1.1&nbsp;&nbsp;</span>Installation</a></span><ul class=\"toc-item\"><li><span><a href=\"#En-ligne,\" data-toc-modified-id=\"En-ligne,-1.1.1\"><span class=\"toc-item-num\">1.1.1&nbsp;&nbsp;</span>En ligne,</a></span></li><li><span><a href=\"#...-ou-locale.\" data-toc-modified-id=\"...-ou-locale.-1.1.2\"><span class=\"toc-item-num\">1.1.2&nbsp;&nbsp;</span>... ou locale.</a></span></li></ul></li><li><span><a href=\"#Librairies\" data-toc-modified-id=\"Librairies-1.2\"><span class=\"toc-item-num\">1.2&nbsp;&nbsp;</span>Librairies</a></span></li></ul></li><li><span><a href=\"#Architecture\" data-toc-modified-id=\"Architecture-2\"><span class=\"toc-item-num\">2&nbsp;&nbsp;</span>Architecture</a></span><ul class=\"toc-item\"><li><span><a href=\"#Création-d'un-projet\" data-toc-modified-id=\"Création-d'un-projet-2.1\"><span class=\"toc-item-num\">2.1&nbsp;&nbsp;</span>Création d'un projet</a></span></li><li><span><a href=\"#Création-d'une-application\" data-toc-modified-id=\"Création-d'une-application-2.2\"><span class=\"toc-item-num\">2.2&nbsp;&nbsp;</span>Création d'une application</a></span></li><li><span><a href=\"#Fichiers\" data-toc-modified-id=\"Fichiers-2.3\"><span class=\"toc-item-num\">2.3&nbsp;&nbsp;</span>Fichiers</a></span></li></ul></li><li><span><a href=\"#Configuration\" data-toc-modified-id=\"Configuration-3\"><span class=\"toc-item-num\">3&nbsp;&nbsp;</span>Configuration</a></span><ul class=\"toc-item\"><li><span><a href=\"#myproject\" data-toc-modified-id=\"myproject-3.1\"><span class=\"toc-item-num\">3.1&nbsp;&nbsp;</span>myproject</a></span></li><li><span><a href=\"#myapp\" data-toc-modified-id=\"myapp-3.2\"><span class=\"toc-item-num\">3.2&nbsp;&nbsp;</span>myapp</a></span></li><li><span><a href=\"#Initialisation-du-server\" data-toc-modified-id=\"Initialisation-du-server-3.3\"><span class=\"toc-item-num\">3.3&nbsp;&nbsp;</span>Initialisation du server</a></span></li><li><span><a href=\"#Vues\" data-toc-modified-id=\"Vues-3.4\"><span class=\"toc-item-num\">3.4&nbsp;&nbsp;</span>Vues</a></span></li><li><span><a href=\"#Urls\" data-toc-modified-id=\"Urls-3.5\"><span class=\"toc-item-num\">3.5&nbsp;&nbsp;</span>Urls</a></span></li><li><span><a href=\"#Gabarits\" data-toc-modified-id=\"Gabarits-3.6\"><span class=\"toc-item-num\">3.6&nbsp;&nbsp;</span>Gabarits</a></span></li><li><span><a href=\"#Applications\" data-toc-modified-id=\"Applications-3.7\"><span class=\"toc-item-num\">3.7&nbsp;&nbsp;</span>Applications</a></span></li></ul></li><li><span><a href=\"#Pythonification\" data-toc-modified-id=\"Pythonification-4\"><span class=\"toc-item-num\">4&nbsp;&nbsp;</span>Pythonification</a></span><ul class=\"toc-item\"><li><span><a href=\"#Formulaires\" data-toc-modified-id=\"Formulaires-4.1\"><span class=\"toc-item-num\">4.1&nbsp;&nbsp;</span>Formulaires</a></span></li><li><span><a href=\"#Formulé-différemment\" data-toc-modified-id=\"Formulé-différemment-4.2\"><span class=\"toc-item-num\">4.2&nbsp;&nbsp;</span>Formulé différemment</a></span></li></ul></li><li><span><a href=\"#Autres\" data-toc-modified-id=\"Autres-5\"><span class=\"toc-item-num\">5&nbsp;&nbsp;</span>Autres</a></span><ul class=\"toc-item\"><li><span><a href=\"#Python\" data-toc-modified-id=\"Python-5.1\"><span class=\"toc-item-num\">5.1&nbsp;&nbsp;</span>Python</a></span></li><li><span><a href=\"#Versions\" data-toc-modified-id=\"Versions-5.2\"><span class=\"toc-item-num\">5.2&nbsp;&nbsp;</span>Versions</a></span></li><li><span><a href=\"#Nettoyage\" data-toc-modified-id=\"Nettoyage-5.3\"><span class=\"toc-item-num\">5.3&nbsp;&nbsp;</span>Nettoyage</a></span></li></ul></li></ul></div>"
   ]
  },
  {
   "attachments": {},
   "cell_type": "markdown",
   "metadata": {
    "slideshow": {
     "slide_type": "slide"
    }
   },
   "source": [
    "<center><img src=\"https://www.django-creation.fr/static/dj_creation/images/pic2.png\" style=\"height:200px\"></center>\n",
    "<center><img src=\"https://upload.wikimedia.org/wikipedia/commons/thumb/c/c3/Python-logo-notext.svg/1024px-Python-logo-notext.svg.png\" style=\"height:150px\"></center>"
   ]
  },
  {
   "attachments": {},
   "cell_type": "markdown",
   "metadata": {
    "slideshow": {
     "slide_type": "subslide"
    }
   },
   "source": [
    "<center><img src=\"https://149351115.v2.pressablecdn.com/wp-content/uploads/2017/09/growth_major_languages-1-1024x878.png\" style=\"height:500px\"></center>"
   ]
  },
  {
   "cell_type": "markdown",
   "metadata": {
    "slideshow": {
     "slide_type": "slide"
    }
   },
   "source": [
    "# Prérequis"
   ]
  },
  {
   "cell_type": "markdown",
   "metadata": {
    "slideshow": {
     "slide_type": "subslide"
    }
   },
   "source": [
    "## Installation\n",
    "### En ligne,\n",
    "* Copier le [lien Github mGolos/test](https://github.com/mGolos/test) sur [Binder](https://gke.mybinder.org/)"
   ]
  },
  {
   "cell_type": "markdown",
   "metadata": {
    "slideshow": {
     "slide_type": "subslide"
    }
   },
   "source": [
    "### ... ou locale.\n",
    "* Installer un environnement via [conda](https://www.anaconda.com/distribution/#download-section)  \n",
    "  Fichiers de configuration préférables &rarr; réplicabilité et reproductibilité\n",
    "    ```bash\n",
    "    conda env create -f environment.yml --name django_test\n",
    "    conda activate django_test\n",
    "    jupyter contrib nbextension install --user\n",
    "    jupyter notebook\n",
    "    ```"
   ]
  },
  {
   "cell_type": "markdown",
   "metadata": {
    "slideshow": {
     "slide_type": "subslide"
    }
   },
   "source": [
    "## Librairies\n",
    "* Fonctions personnelles et locales dans [`functions.py`](/edit/functions.py)\n",
    "* Librairies pour la visualisation des pages HTML"
   ]
  },
  {
   "cell_type": "code",
   "execution_count": 1,
   "metadata": {
    "slideshow": {
     "slide_type": "-"
    }
   },
   "outputs": [],
   "source": [
    "import requests\n",
    "import functions as fc\n",
    "from IPython.display import display, HTML"
   ]
  },
  {
   "cell_type": "markdown",
   "metadata": {
    "slideshow": {
     "slide_type": "slide"
    }
   },
   "source": [
    "# Architecture"
   ]
  },
  {
   "cell_type": "markdown",
   "metadata": {
    "slideshow": {
     "slide_type": "subslide"
    }
   },
   "source": [
    "## Création d'un projet"
   ]
  },
  {
   "cell_type": "code",
   "execution_count": 2,
   "metadata": {
    "slideshow": {
     "slide_type": "-"
    }
   },
   "outputs": [],
   "source": [
    "!django-admin startproject myproject"
   ]
  },
  {
   "cell_type": "code",
   "execution_count": null,
   "metadata": {
    "slideshow": {
     "slide_type": "-"
    }
   },
   "outputs": [],
   "source": [
    "fc.tree('myproject')"
   ]
  },
  {
   "cell_type": "markdown",
   "metadata": {
    "slideshow": {
     "slide_type": "subslide"
    }
   },
   "source": [
    "## Création d'une application"
   ]
  },
  {
   "cell_type": "code",
   "execution_count": null,
   "metadata": {
    "cell_style": "center"
   },
   "outputs": [],
   "source": [
    "%cd myproject\n",
    "!python manage.py startapp myapp\n",
    "%cd .."
   ]
  },
  {
   "cell_type": "markdown",
   "metadata": {
    "slideshow": {
     "slide_type": "subslide"
    }
   },
   "source": [
    "## Fichiers"
   ]
  },
  {
   "cell_type": "code",
   "execution_count": null,
   "metadata": {
    "cell_style": "center",
    "slideshow": {
     "slide_type": "-"
    }
   },
   "outputs": [],
   "source": [
    "fc.tree('myproject')"
   ]
  },
  {
   "cell_type": "markdown",
   "metadata": {
    "cell_style": "center",
    "slideshow": {
     "slide_type": "subslide"
    }
   },
   "source": [
    "<center><img src=\"images/basic-django.png\" style=\"height:300px\"></center>"
   ]
  },
  {
   "cell_type": "markdown",
   "metadata": {
    "slideshow": {
     "slide_type": "subslide"
    }
   },
   "source": [
    "**Philosophie**\n",
    "* Couplage faible : Les différentes couches du système ne doivent rien « connaître » les unes des autres à moins que cela ne soit absolument nécessaire.\n",
    "* Moins de code : Don't Repeat Yourself (DRY)\n",
    "* Développement rapide"
   ]
  },
  {
   "cell_type": "markdown",
   "metadata": {
    "slideshow": {
     "slide_type": "subslide"
    }
   },
   "source": [
    "**Gabarits (templates)**  \n",
    "* Outil de contrôle et de logique liée à la présentation, rien de plus\n",
    "* Prévenir la redondance : héritage\n",
    "* Sécurité : échappement automatique\n",
    "* Pas de nouveau langage : juste assez programmatique, comme les conditions et les boucles \n",
    "\n",
    "*Gabarits plus souvent écrits par les concepteurs (non les programmeurs)  \n",
    "&rarr; pas supposer de connaissances en Python*"
   ]
  },
  {
   "cell_type": "markdown",
   "metadata": {
    "slideshow": {
     "slide_type": "subslide"
    }
   },
   "source": [
    "**Modèles (models)**\n",
    "* Création / importation des modèles à partir d'une base de donnée existante / de diagrammes UML (dia2django)\n",
    "* Instructions de l'API optimisées pour différents types de base de donnée, riches et expressives en aussi peu de syntaxe que possible."
   ]
  },
  {
   "cell_type": "markdown",
   "metadata": {
    "slideshow": {
     "slide_type": "subslide"
    }
   },
   "source": [
    "**Vues (views)**\n",
    "* Simplicité : la rédaction devrait être aussi simple que d’écrire une fonction Python  \n",
    "&rarr; pas besoin d’instancier une classe quand une fonction suffit"
   ]
  },
  {
   "cell_type": "markdown",
   "metadata": {
    "slideshow": {
     "slide_type": "subslide"
    }
   },
   "source": [
    "**Urls**  \n",
    "* Aussi souples que possible\n",
    "* Toute conception imaginable devrait être possible\n",
    "* Il devrait être aussi facile de concevoir de belles URL que des vilaines"
   ]
  },
  {
   "cell_type": "markdown",
   "metadata": {
    "cell_style": "center",
    "slideshow": {
     "slide_type": "subslide"
    }
   },
   "source": [
    "<center><img src=\"images/myapp_models.png\" style=\"height:600px\"></center>"
   ]
  },
  {
   "cell_type": "markdown",
   "metadata": {
    "slideshow": {
     "slide_type": "slide"
    }
   },
   "source": [
    "# Configuration"
   ]
  },
  {
   "cell_type": "markdown",
   "metadata": {
    "slideshow": {
     "slide_type": "subslide"
    }
   },
   "source": [
    "## myproject"
   ]
  },
  {
   "cell_type": "markdown",
   "metadata": {},
   "source": [
    "* Ajout des applications dans le [`myproject/settings.py`](../edit/myproject/myproject/settings.py) :"
   ]
  },
  {
   "cell_type": "code",
   "execution_count": null,
   "metadata": {},
   "outputs": [],
   "source": [
    "fc.sed(\"INSTALLED_APPS = [\", \n",
    "       \"    'myapp.apps.MyappConfig',\\n\", \n",
    "       \"myproject/myproject/settings.py\")"
   ]
  },
  {
   "cell_type": "markdown",
   "metadata": {
    "slideshow": {
     "slide_type": "subslide"
    }
   },
   "source": [
    "* Ajout des [urls](../edit/myproject/myapp/urls.py) dans le fichier [`myproject/urls.py`](../edit/myproject/myproject/urls.py) :"
   ]
  },
  {
   "cell_type": "code",
   "execution_count": null,
   "metadata": {},
   "outputs": [],
   "source": [
    "fc.replace(\"from django.urls import path\", \n",
    "           \"from django.urls import include, path\", \n",
    "           \"myproject/myproject/urls.py\")"
   ]
  },
  {
   "cell_type": "code",
   "execution_count": null,
   "metadata": {},
   "outputs": [],
   "source": [
    "fc.sed(\"urlpatterns = [\", \n",
    "       \"    path('myapp/', include('myapp.urls')),\\n\",\n",
    "       \"myproject/myproject/urls.py\")"
   ]
  },
  {
   "cell_type": "markdown",
   "metadata": {
    "slideshow": {
     "slide_type": "subslide"
    }
   },
   "source": [
    "## myapp"
   ]
  },
  {
   "cell_type": "markdown",
   "metadata": {},
   "source": [
    "* Modification du fichier [`myapp/views.py`](../edit/myproject/myapp/views.py) :"
   ]
  },
  {
   "cell_type": "code",
   "execution_count": null,
   "metadata": {},
   "outputs": [],
   "source": [
    "fc.create('myproject/myapp/views.py',\n",
    "'''from django.http import HttpResponse\\n\n",
    "def index(request):\n",
    "    return HttpResponse(\\\"Hello, from myapp index.\\\")''')"
   ]
  },
  {
   "cell_type": "markdown",
   "metadata": {
    "slideshow": {
     "slide_type": "subslide"
    }
   },
   "source": [
    "* Création du fichier [`myapp/urls.py`](../edit/myproject/myapp/urls.py) :"
   ]
  },
  {
   "cell_type": "code",
   "execution_count": null,
   "metadata": {},
   "outputs": [],
   "source": [
    "fc.create('myproject/myapp/urls.py',\n",
    "'''from django.urls import path\n",
    "from myapp import views\\n\n",
    "urlpatterns = [\n",
    "    path('', views.index, name='index'),\n",
    "]''')"
   ]
  },
  {
   "cell_type": "markdown",
   "metadata": {
    "slideshow": {
     "slide_type": "slide"
    }
   },
   "source": [
    "## Initialisation du server\n",
    "* Dans un [terminal](../terminals/runserver), exécuter \n",
    "    ```sh \n",
    "    python manage.py runserver\n",
    "    ```"
   ]
  },
  {
   "cell_type": "code",
   "execution_count": null,
   "metadata": {
    "slideshow": {
     "slide_type": "-"
    }
   },
   "outputs": [],
   "source": [
    "content = requests.get('http://127.0.0.1:8000').text; display(HTML(content))"
   ]
  },
  {
   "cell_type": "code",
   "execution_count": null,
   "metadata": {
    "slideshow": {
     "slide_type": "subslide"
    }
   },
   "outputs": [],
   "source": [
    "content = requests.get('http://127.0.0.1:8000/myapp').text; display(HTML(content))"
   ]
  },
  {
   "cell_type": "markdown",
   "metadata": {
    "slideshow": {
     "slide_type": "subslide"
    }
   },
   "source": [
    "## Vues"
   ]
  },
  {
   "cell_type": "markdown",
   "metadata": {
    "slideshow": {
     "slide_type": "subslide"
    }
   },
   "source": [
    "* Modification simple de la vue [`myapp/views.py`](../edit/myproject/myapp/views.py) :"
   ]
  },
  {
   "cell_type": "code",
   "execution_count": null,
   "metadata": {},
   "outputs": [],
   "source": [
    "fc.replace(\"Hello, from myapp index.\", \n",
    "           \"Bonjour depuis l'index de myapp.\", \n",
    "           \"myproject/myapp/views.py\")"
   ]
  },
  {
   "cell_type": "code",
   "execution_count": null,
   "metadata": {
    "slideshow": {
     "slide_type": "-"
    }
   },
   "outputs": [],
   "source": [
    "content = requests.get('http://127.0.0.1:8000/myapp').text; display(HTML(content))"
   ]
  },
  {
   "cell_type": "markdown",
   "metadata": {
    "slideshow": {
     "slide_type": "subslide"
    }
   },
   "source": [
    "## Urls"
   ]
  },
  {
   "cell_type": "markdown",
   "metadata": {
    "slideshow": {
     "slide_type": "subslide"
    }
   },
   "source": [
    "* Modification du chemin [`myproject/urls.py`](../edit/myproject/myproject/urls.py) :"
   ]
  },
  {
   "cell_type": "code",
   "execution_count": null,
   "metadata": {},
   "outputs": [],
   "source": [
    "fc.replace(\"path('myapp/'\", \n",
    "           \"path(''\", \n",
    "           \"myproject/myproject/urls.py\")"
   ]
  },
  {
   "cell_type": "code",
   "execution_count": null,
   "metadata": {
    "slideshow": {
     "slide_type": "-"
    }
   },
   "outputs": [],
   "source": [
    "content = requests.get('http://127.0.0.1:8000').text; display(HTML(content))"
   ]
  },
  {
   "cell_type": "markdown",
   "metadata": {
    "slideshow": {
     "slide_type": "subslide"
    }
   },
   "source": [
    "## Gabarits"
   ]
  },
  {
   "cell_type": "code",
   "execution_count": null,
   "metadata": {},
   "outputs": [],
   "source": [
    "mkdir \"myproject/myapp/templates\" \"myproject/myapp/templates/myapp\""
   ]
  },
  {
   "cell_type": "markdown",
   "metadata": {
    "slideshow": {
     "slide_type": "subslide"
    }
   },
   "source": [
    "* Création de [`myapp/templates/myapp/layout.html`](../edit/myproject/myapp/templates/myapp/layout.html)"
   ]
  },
  {
   "cell_type": "code",
   "execution_count": null,
   "metadata": {},
   "outputs": [],
   "source": [
    "fc.create('myproject/myapp/templates/myapp/layout.html',\n",
    "'''{% block header %}\n",
    "    <h1>Début du Layout</h1>{% endblock header %} \\n\n",
    "{% block content %}\n",
    "    contenu{% endblock content %} \\n\n",
    "{% block footer %}\n",
    "    <h1>...</h1>{% endblock footer %}''')"
   ]
  },
  {
   "cell_type": "markdown",
   "metadata": {
    "slideshow": {
     "slide_type": "-"
    }
   },
   "source": [
    "* Création de [`myapp/templates/myapp/home.html`](../edit/myproject/myapp/templates/myapp/home.html)"
   ]
  },
  {
   "cell_type": "code",
   "execution_count": null,
   "metadata": {},
   "outputs": [],
   "source": [
    "fc.create('myproject/myapp/templates/myapp/home.html',\n",
    "'''{% extends \"myapp/layout.html\" %}\n",
    "{% block content %}Hello from Home{% endblock content %}''')"
   ]
  },
  {
   "cell_type": "markdown",
   "metadata": {
    "slideshow": {
     "slide_type": "subslide"
    }
   },
   "source": [
    "* Modification des vues [`myapp/views.py`](../edit/myproject/myapp/views.py)"
   ]
  },
  {
   "cell_type": "code",
   "execution_count": null,
   "metadata": {},
   "outputs": [],
   "source": [
    "fc.create('myproject/myapp/views.py',\n",
    "'''from django.views.generic import TemplateView\\n\n",
    "class index(TemplateView):\n",
    "    template_name = 'myapp/home.html' ''')"
   ]
  },
  {
   "cell_type": "markdown",
   "metadata": {
    "slideshow": {
     "slide_type": "-"
    }
   },
   "source": [
    "* Modification de l'url [`myapp/urls.py`](../edit/myproject/myapp/urls.py)"
   ]
  },
  {
   "cell_type": "code",
   "execution_count": null,
   "metadata": {},
   "outputs": [],
   "source": [
    "fc.replace(\"views.index,\", \n",
    "           \"views.index.as_view(),\", \n",
    "           \"myproject/myapp/urls.py\")"
   ]
  },
  {
   "cell_type": "code",
   "execution_count": null,
   "metadata": {
    "slideshow": {
     "slide_type": "subslide"
    }
   },
   "outputs": [],
   "source": [
    "content = requests.get('http://127.0.0.1:8000').text; display(HTML(content))"
   ]
  },
  {
   "cell_type": "code",
   "execution_count": null,
   "metadata": {
    "slideshow": {
     "slide_type": "subslide"
    }
   },
   "outputs": [],
   "source": [
    "fc.tree('myproject')"
   ]
  },
  {
   "cell_type": "markdown",
   "metadata": {
    "slideshow": {
     "slide_type": "subslide"
    }
   },
   "source": [
    "## Applications"
   ]
  },
  {
   "cell_type": "code",
   "execution_count": null,
   "metadata": {
    "slideshow": {
     "slide_type": "-"
    }
   },
   "outputs": [],
   "source": [
    "content = requests.get('http://127.0.0.1:8000/admin').text\n",
    "display(HTML(content))"
   ]
  },
  {
   "cell_type": "markdown",
   "metadata": {
    "slideshow": {
     "slide_type": "slide"
    }
   },
   "source": [
    "# Pythonification"
   ]
  },
  {
   "cell_type": "markdown",
   "metadata": {
    "slideshow": {
     "slide_type": "subslide"
    },
    "variables": {
     " <span class=\"cm-variable\">form</span> ": "<p><strong>SyntaxError</strong>: invalid syntax (<ipython-input-26-5e4d9fc9d90a>, line 1)</p>\n"
    }
   },
   "source": [
    "Intérêt\n",
    "* html simple :\n",
    "    ```html\n",
    "    <label for=\"your_name\">Your name: </label>\n",
    "    <input id=\"your_name\" type=\"text\" name=\"your_name\" value=\"{ { current_name }}\">\n",
    "    ```\n",
    "* html + méthodes python :\n",
    "    ```python\n",
    "    {% csrf_token %}\n",
    "    {{ form }}\n",
    "    ```"
   ]
  },
  {
   "cell_type": "markdown",
   "metadata": {
    "slideshow": {
     "slide_type": "subslide"
    }
   },
   "source": [
    "## Formulaires"
   ]
  },
  {
   "cell_type": "markdown",
   "metadata": {
    "slideshow": {
     "slide_type": "subslide"
    }
   },
   "source": [
    "* Création d'une forme [`myapp/forms.py`](../edit/myproject/myapp/forms.py)"
   ]
  },
  {
   "cell_type": "code",
   "execution_count": null,
   "metadata": {},
   "outputs": [],
   "source": [
    "fc.create('myproject/myapp/forms.py',\n",
    "'''from django import forms \\n\n",
    "class SimpleForm(forms.Form):\n",
    "    subject = forms.CharField(\n",
    "        label='Le sujet de votre message ',\n",
    "        max_length=100) \\n\n",
    "    message = forms.CharField(\n",
    "        widget=forms.Textarea(attrs={\"class\":\"form-control\"}),\n",
    "        label='Votre message ',\n",
    "        max_length=1000,\n",
    "        required=False)''')"
   ]
  },
  {
   "cell_type": "markdown",
   "metadata": {
    "slideshow": {
     "slide_type": "subslide"
    }
   },
   "source": [
    "* Modification des vues [`myapp/views.py`](../edit/myproject/myapp/views.py)"
   ]
  },
  {
   "cell_type": "code",
   "execution_count": 29,
   "metadata": {},
   "outputs": [],
   "source": [
    "fc.create('myproject/myapp/views.py',\n",
    "'''from django.http import HttpResponseRedirect\n",
    "from django.shortcuts import render\n",
    "from myapp import forms\n",
    "\n",
    "def get_name(request):\n",
    "    if request.method == 'POST':                 \n",
    "        form = forms.SimpleForm(request.POST) \\n        \n",
    "        if form.is_valid():                       \n",
    "            return HttpResponseRedirect('thanks')\n",
    "\n",
    "    else:\n",
    "        form = forms.SimpleForm()                         \n",
    "\n",
    "    return render(request, 'myapp/name.html', {'form': form})''')"
   ]
  },
  {
   "cell_type": "markdown",
   "metadata": {
    "slideshow": {
     "slide_type": "subslide"
    }
   },
   "source": [
    "* Modification de [`myapp/templates/myapp/home.html`](../edit/myproject/myapp/templates/myapp/home.html)"
   ]
  },
  {
   "cell_type": "code",
   "execution_count": 46,
   "metadata": {},
   "outputs": [],
   "source": [
    "fc.create('myproject/myapp/templates/myapp/home.html',\n",
    "'''{% extends \"myapp/layout.html\" %}\n",
    "{% block content %}\n",
    "    <form action=\"/myapp/\" method=\"post\">\n",
    "        {% csrf_token %}\n",
    "        {{ form }}\n",
    "        <input type=\"submit\" value=\"Submit\">\n",
    "    </form>\n",
    "{% endblock content %}''')"
   ]
  },
  {
   "cell_type": "markdown",
   "metadata": {
    "slideshow": {
     "slide_type": "-"
    }
   },
   "source": [
    "* Modification de l'url [`myapp/urls.py`](../edit/myproject/myapp/urls.py)"
   ]
  },
  {
   "cell_type": "code",
   "execution_count": 17,
   "metadata": {},
   "outputs": [],
   "source": [
    "fc.create('myproject/myapp/urls.py',\n",
    "'''from django.urls import path\n",
    "from django.http import HttpResponse\n",
    "from myapp import views \\n\n",
    "urlpatterns = [\n",
    "    path('', views.get_name, name='index'),\n",
    "    path('thanks', lambda request: HttpResponse(\"Thanks\"), name='thanks'),\n",
    "]''')"
   ]
  },
  {
   "cell_type": "code",
   "execution_count": null,
   "metadata": {
    "slideshow": {
     "slide_type": "subslide"
    }
   },
   "outputs": [],
   "source": [
    "content = requests.get('http://127.0.0.1:8000').text; display(HTML(content))"
   ]
  },
  {
   "cell_type": "code",
   "execution_count": null,
   "metadata": {
    "slideshow": {
     "slide_type": "-"
    }
   },
   "outputs": [],
   "source": [
    "content = requests.get('http://127.0.0.1:8000/thanks').text; display(HTML(content))"
   ]
  },
  {
   "cell_type": "markdown",
   "metadata": {
    "slideshow": {
     "slide_type": "subslide"
    }
   },
   "source": [
    "## Formulé différemment"
   ]
  },
  {
   "cell_type": "markdown",
   "metadata": {},
   "source": [
    "* Ajout de *widget_tweaks* dans [`myproject/settings.py`](../edit/myproject/myproject/settings.py) :"
   ]
  },
  {
   "cell_type": "code",
   "execution_count": 10,
   "metadata": {},
   "outputs": [],
   "source": [
    "fc.sed(\"INSTALLED_APPS = [\", \n",
    "       \"    'widget_tweaks',\\n\", \n",
    "       \"myproject/myproject/settings.py\")"
   ]
  },
  {
   "cell_type": "markdown",
   "metadata": {
    "slideshow": {
     "slide_type": "subslide"
    }
   },
   "source": [
    "* Modification de [`myapp/templates/myapp/home.html`](../edit/myproject/myapp/templates/myapp/home.html)"
   ]
  },
  {
   "cell_type": "code",
   "execution_count": 38,
   "metadata": {},
   "outputs": [],
   "source": [
    "fc.create('myproject/myapp/templates/myapp/home.html',\n",
    "'''{% extends \"myapp/layout.html\" %}\n",
    "{% load widget_tweaks %}\n",
    "{% block content %}\n",
    "    <form action=\"/myapp/\" method=\"post\">\n",
    "        {% csrf_token %}\n",
    "        {{ form.subject|add_class:\"form-control\" }}\n",
    "        {{ form.message|append_attr:\"class:form-control\" }}}}\n",
    "        <input type=\"submit\" value=\"Submit\">\n",
    "    </form>\n",
    "{% endblock content %}''')"
   ]
  },
  {
   "cell_type": "code",
   "execution_count": null,
   "metadata": {
    "slideshow": {
     "slide_type": "subslide"
    }
   },
   "outputs": [],
   "source": [
    "content = requests.get('http://127.0.0.1:8000/myapp').text; display(HTML(content))"
   ]
  },
  {
   "cell_type": "markdown",
   "metadata": {
    "slideshow": {
     "slide_type": "slide"
    }
   },
   "source": [
    "# Autres"
   ]
  },
  {
   "cell_type": "markdown",
   "metadata": {
    "slideshow": {
     "slide_type": "subslide"
    }
   },
   "source": [
    "## Python"
   ]
  },
  {
   "cell_type": "markdown",
   "metadata": {},
   "source": [
    "[Gallerie de note intéressantes](https://github.com/jupyter/jupyter/wiki/A-gallery-of-interesting-Jupyter-Notebooks#general-python-programming)"
   ]
  },
  {
   "cell_type": "markdown",
   "metadata": {
    "slideshow": {
     "slide_type": "subslide"
    }
   },
   "source": [
    "## Versions"
   ]
  },
  {
   "cell_type": "code",
   "execution_count": 11,
   "metadata": {},
   "outputs": [
    {
     "name": "stdout",
     "output_type": "stream",
     "text": [
      "# packages in environment at C:\\Users\\mathi\\Anaconda3\\envs\\django_test:\n",
      "#\n",
      "# Name                    Version                   Build  Channel\n",
      "asn1crypto                0.24.0                   py37_0  \n",
      "attrs                     19.1.0                   py37_1  \n",
      "backcall                  0.1.0                    py37_0  \n",
      "beautifulsoup4            4.8.0                    py37_0  \n",
      "bleach                    3.1.0                    py37_0  \n",
      "ca-certificates           2019.5.15                     1  \n",
      "certifi                   2019.6.16                py37_1  \n",
      "cffi                      1.12.3           py37h7a1dbc1_0  \n",
      "chardet                   3.0.4                 py37_1003  \n",
      "colorama                  0.4.1                    py37_0  \n",
      "cryptography              2.7              py37h7a1dbc1_0  \n",
      "decorator                 4.4.0                    py37_1  \n",
      "defusedxml                0.6.0                      py_0  \n",
      "django                    2.2.1                    py37_0  \n",
      "entrypoints               0.3                      py37_0  \n",
      "html5lib                  1.0.1                    py37_0  \n",
      "icu                       58.2                 ha66f8fd_1  \n",
      "idna                      2.8                      py37_0  \n",
      "ipykernel                 5.1.2            py37h39e3cac_0  \n",
      "ipython                   7.8.0            py37h39e3cac_0  \n",
      "ipython_genutils          0.2.0                    py37_0  \n",
      "ipywidgets                7.5.1                      py_0  \n",
      "jedi                      0.15.1                   py37_0  \n",
      "jinja2                    2.10.1                   py37_0  \n",
      "jpeg                      9b                   hb83a4c4_2  \n",
      "jsonschema                3.0.2                    py37_0  \n",
      "jupyter                   1.0.0                    py37_7  \n",
      "jupyter-contrib-core      0.3.3                    pypi_0    pypi\n",
      "jupyter-contrib-nbextensions 0.5.1                    pypi_0    pypi\n",
      "jupyter-highlight-selected-word 0.2.0                    pypi_0    pypi\n",
      "jupyter-latex-envs        1.4.6                    pypi_0    pypi\n",
      "jupyter-nbextensions-configurator 0.4.1                    pypi_0    pypi\n",
      "jupyter_client            5.3.1                      py_0  \n",
      "jupyter_console           6.0.0                    py37_0  \n",
      "jupyter_core              4.5.0                      py_0  \n",
      "libiconv                  1.15                 h1df5818_7  \n",
      "libpng                    1.6.37               h2a8f88b_0  \n",
      "libsodium                 1.0.16               h9d3ae62_0  \n",
      "libxml2                   2.9.9                h464c3ec_0  \n",
      "libxslt                   1.1.33               h579f668_0  \n",
      "lxml                      4.4.1            py37h1350720_0  \n",
      "m2w64-gcc-libgfortran     5.3.0                         6  \n",
      "m2w64-gcc-libs            5.3.0                         7  \n",
      "m2w64-gcc-libs-core       5.3.0                         7  \n",
      "m2w64-gmp                 6.1.0                         2  \n",
      "m2w64-libwinpthread-git   5.0.0.4634.697f757               2  \n",
      "markupsafe                1.1.1            py37he774522_0  \n",
      "mistune                   0.8.4            py37he774522_0  \n",
      "msys2-conda-epoch         20160418                      1  \n",
      "nb_conda                  2.2.1                    py37_0  \n",
      "nb_conda_kernels          2.2.2                    py37_0  \n",
      "nbconvert                 5.5.0                      py_0  \n",
      "nbformat                  4.4.0                    py37_0  \n",
      "notebook                  6.0.1                    py37_0  \n",
      "openssl                   1.1.1d               he774522_0  \n",
      "pandoc                    2.2.3.2                       0  \n",
      "pandocfilters             1.4.2                    py37_1  \n",
      "parso                     0.5.1                      py_0  \n",
      "pickleshare               0.7.5                    py37_0  \n",
      "pip                       19.2.2                   py37_0  \n",
      "prometheus_client         0.7.1                      py_0  \n",
      "prompt_toolkit            2.0.9                    py37_0  \n",
      "pycparser                 2.19                     py37_0  \n",
      "pygments                  2.4.2                      py_0  \n",
      "pyopenssl                 19.0.0                   py37_0  \n",
      "pyqt                      5.9.2            py37h6538335_2  \n",
      "pyrsistent                0.14.11          py37he774522_0  \n",
      "pysed                     0.7.8                    pypi_0    pypi\n",
      "pysocks                   1.7.0                    py37_0  \n",
      "python                    3.7.4                h5263a28_0  \n",
      "python-dateutil           2.8.0                    py37_0  \n",
      "python-graphviz           0.13                     pypi_0    pypi\n",
      "pytz                      2019.2                     py_0  \n",
      "pywinpty                  0.5.5                 py37_1000  \n",
      "pyyaml                    5.1.2                    pypi_0    pypi\n",
      "pyzmq                     18.1.0           py37ha925a31_0  \n",
      "qt                        5.9.7            vc14h73c81de_0  \n",
      "qtconsole                 4.5.5                      py_0  \n",
      "requests                  2.22.0                   py37_0  \n",
      "rise                      5.4.1                 py37_1000  \n",
      "send2trash                1.5.0                    py37_0  \n",
      "setuptools                41.0.1                   py37_0  \n",
      "sip                       4.19.8           py37h6538335_0  \n",
      "six                       1.12.0                   py37_0  \n",
      "soupsieve                 1.9.2                    py37_0  \n",
      "sqlite                    3.29.0               he774522_0  \n",
      "sqlparse                  0.3.0                      py_0  \n",
      "terminado                 0.8.2                    py37_0  \n",
      "testpath                  0.4.2                    py37_0  \n",
      "tornado                   6.0.3            py37he774522_0  \n",
      "traitlets                 4.3.2                    py37_0  \n",
      "urllib3                   1.24.2                   py37_0  \n",
      "vc                        14.1                 h0510ff6_4  \n",
      "vs2015_runtime            14.16.27012          hf0eaf9b_0  \n",
      "wcwidth                   0.1.7                    py37_0  \n",
      "webencodings              0.5.1                    py37_1  \n",
      "werkzeug                  0.16.0                   pypi_0    pypi\n",
      "wheel                     0.33.4                   py37_0  \n",
      "widgetsnbextension        3.5.1                    py37_0  \n",
      "win_inet_pton             1.1.0                    py37_0  \n",
      "wincertstore              0.2                      py37_0  \n",
      "winpty                    0.4.3                         4  \n",
      "zeromq                    4.3.1                h33f27b4_3  \n",
      "zlib                      1.2.11               h62dcd97_3  \n"
     ]
    }
   ],
   "source": [
    "!conda list"
   ]
  },
  {
   "cell_type": "markdown",
   "metadata": {
    "slideshow": {
     "slide_type": "subslide"
    }
   },
   "source": [
    "## Nettoyage\n",
    "* Suppression de l'environnement conda : `conda remove --name django_test --all`\n",
    "* Suppresion du projet :"
   ]
  },
  {
   "cell_type": "code",
   "execution_count": null,
   "metadata": {
    "slideshow": {
     "slide_type": "-"
    }
   },
   "outputs": [],
   "source": [
    "import shutil\n",
    "shutil.rmtree('myproject')"
   ]
  }
 ],
 "metadata": {
  "celltoolbar": "Diaporama",
  "hide_input": false,
  "kernelspec": {
   "display_name": "Python 3",
   "language": "python",
   "name": "python3"
  },
  "toc": {
   "base_numbering": 1,
   "nav_menu": {
    "height": "290px",
    "width": "278px"
   },
   "number_sections": true,
   "sideBar": true,
   "skip_h1_title": false,
   "title_cell": "Table of Contents",
   "title_sidebar": "Contents",
   "toc_cell": true,
   "toc_position": {
    "height": "calc(100% - 180px)",
    "left": "10px",
    "top": "150px",
    "width": "236px"
   },
   "toc_section_display": true,
   "toc_window_display": false
  },
  "varInspector": {
   "cols": {
    "lenName": 16,
    "lenType": 16,
    "lenVar": 40
   },
   "kernels_config": {
    "python": {
     "delete_cmd_postfix": "",
     "delete_cmd_prefix": "del ",
     "library": "var_list.py",
     "varRefreshCmd": "print(var_dic_list())"
    },
    "r": {
     "delete_cmd_postfix": ") ",
     "delete_cmd_prefix": "rm(",
     "library": "var_list.r",
     "varRefreshCmd": "cat(var_dic_list()) "
    }
   },
   "types_to_exclude": [
    "module",
    "function",
    "builtin_function_or_method",
    "instance",
    "_Feature"
   ],
   "window_display": false
  },
  "widgets": {
   "application/vnd.jupyter.widget-state+json": {
    "state": {},
    "version_major": 2,
    "version_minor": 0
   }
  }
 },
 "nbformat": 4,
 "nbformat_minor": 2
}
