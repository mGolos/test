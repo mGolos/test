{
 "cells": [
  {
   "cell_type": "markdown",
   "metadata": {},
   "source": [
    "# Administration de la note"
   ]
  },
  {
   "cell_type": "markdown",
   "metadata": {},
   "source": [
    "## Librairies\n",
    "* Fonctions personnelles et locales dans le [fichier `functions.py`](../edit/functions.py)\n",
    "* Librairies de visualisation"
   ]
  },
  {
   "cell_type": "code",
   "execution_count": 1,
   "metadata": {},
   "outputs": [],
   "source": [
    "import functions as fc\n",
    "from IPython.display import display, HTML"
   ]
  },
  {
   "cell_type": "markdown",
   "metadata": {},
   "source": [
    "## Adresse IP de l'instance de Binder"
   ]
  },
  {
   "cell_type": "code",
   "execution_count": 2,
   "metadata": {},
   "outputs": [
    {
     "name": "stdout",
     "output_type": "stream",
     "text": [
      "34.69.187.248\n"
     ]
    }
   ],
   "source": [
    "import requests\n",
    "ip = requests.get('http://ip.42.pl/raw').text; print(ip)"
   ]
  },
  {
   "cell_type": "markdown",
   "metadata": {},
   "source": [
    "## Redo"
   ]
  },
  {
   "cell_type": "code",
   "execution_count": 4,
   "metadata": {},
   "outputs": [],
   "source": [
    "%%bash\n",
    "cd \n",
    "rm -rf myproject/"
   ]
  },
  {
   "cell_type": "code",
   "execution_count": 80,
   "metadata": {},
   "outputs": [],
   "source": [
    "from importlib import reload\n",
    "fc = reload(fc)"
   ]
  },
  {
   "cell_type": "markdown",
   "metadata": {},
   "source": [
    "--- \n",
    "# Simple Django"
   ]
  },
  {
   "cell_type": "markdown",
   "metadata": {},
   "source": [
    "## Création d'un projet Django "
   ]
  },
  {
   "cell_type": "code",
   "execution_count": 5,
   "metadata": {},
   "outputs": [],
   "source": [
    "!django-admin startproject myproject"
   ]
  },
  {
   "cell_type": "code",
   "execution_count": 6,
   "metadata": {},
   "outputs": [
    {
     "name": "stdout",
     "output_type": "stream",
     "text": [
      "/home/jovyan/myproject\n"
     ]
    }
   ],
   "source": [
    "cd myproject"
   ]
  },
  {
   "cell_type": "code",
   "execution_count": 7,
   "metadata": {},
   "outputs": [
    {
     "data": {
      "text/markdown": [
       "[manage.py](../edit/myproject/./manage.py)<br/>myproject/<br/>&nbsp;&nbsp;&nbsp;&nbsp;[settings.py](../edit/myproject/./myproject/settings.py)<br/>&nbsp;&nbsp;&nbsp;&nbsp;[wsgi.py](../edit/myproject/./myproject/wsgi.py)<br/>&nbsp;&nbsp;&nbsp;&nbsp;[urls.py](../edit/myproject/./myproject/urls.py)<br/>"
      ],
      "text/plain": [
       "<IPython.core.display.Markdown object>"
      ]
     },
     "execution_count": 7,
     "metadata": {},
     "output_type": "execute_result"
    }
   ],
   "source": [
    "fc.tree()"
   ]
  },
  {
   "cell_type": "markdown",
   "metadata": {},
   "source": [
    "## Création d'une application"
   ]
  },
  {
   "cell_type": "code",
   "execution_count": 8,
   "metadata": {},
   "outputs": [],
   "source": [
    "!python manage.py startapp myapp"
   ]
  },
  {
   "cell_type": "code",
   "execution_count": 9,
   "metadata": {},
   "outputs": [
    {
     "data": {
      "text/markdown": [
       "[manage.py](../edit/myproject/./manage.py)<br/>myproject/<br/>&nbsp;&nbsp;&nbsp;&nbsp;[settings.py](../edit/myproject/./myproject/settings.py)<br/>&nbsp;&nbsp;&nbsp;&nbsp;[wsgi.py](../edit/myproject/./myproject/wsgi.py)<br/>&nbsp;&nbsp;&nbsp;&nbsp;[urls.py](../edit/myproject/./myproject/urls.py)<br/>myapp/<br/>&nbsp;&nbsp;&nbsp;&nbsp;[models.py](../edit/myproject/./myapp/models.py)<br/>&nbsp;&nbsp;&nbsp;&nbsp;[apps.py](../edit/myproject/./myapp/apps.py)<br/>&nbsp;&nbsp;&nbsp;&nbsp;[tests.py](../edit/myproject/./myapp/tests.py)<br/>&nbsp;&nbsp;&nbsp;&nbsp;[views.py](../edit/myproject/./myapp/views.py)<br/>&nbsp;&nbsp;&nbsp;&nbsp;[admin.py](../edit/myproject/./myapp/admin.py)<br/>"
      ],
      "text/plain": [
       "<IPython.core.display.Markdown object>"
      ]
     },
     "execution_count": 9,
     "metadata": {},
     "output_type": "execute_result"
    }
   ],
   "source": [
    "fc.tree()"
   ]
  },
  {
   "cell_type": "markdown",
   "metadata": {},
   "source": [
    "## Configuration de l'application"
   ]
  },
  {
   "cell_type": "markdown",
   "metadata": {},
   "source": [
    "* Modification du fichier [`myapp/views.py`](../edit/myproject/myapp/views.py) :"
   ]
  },
  {
   "cell_type": "code",
   "execution_count": 10,
   "metadata": {},
   "outputs": [],
   "source": [
    "%%bash\n",
    "echo \"from django.http import HttpResponse\n",
    "def index(request):\n",
    "    return HttpResponse(\\\"Hello, from myapp index.\\\")\" > myapp/views.py"
   ]
  },
  {
   "cell_type": "markdown",
   "metadata": {},
   "source": [
    "## Configuration de l'application principale"
   ]
  },
  {
   "cell_type": "markdown",
   "metadata": {},
   "source": [
    "* Ajout des applications dans le [fichier `myproject/settings.py`](../edit/myproject/myproject/settings.py) :"
   ]
  },
  {
   "cell_type": "code",
   "execution_count": 19,
   "metadata": {},
   "outputs": [],
   "source": [
    "%%bash\n",
    "sed -i \"/INSTALLED_APPS = \\[/a\\    'myapp.apps.MyappConfig',\" myproject/settings.py"
   ]
  },
  {
   "cell_type": "markdown",
   "metadata": {},
   "source": [
    "* Création du fichier `myapp/urls.py` :"
   ]
  },
  {
   "cell_type": "code",
   "execution_count": 42,
   "metadata": {},
   "outputs": [],
   "source": [
    "%%bash\n",
    "echo \"from django.urls import path\n",
    "from myapp import views\n",
    "\n",
    "urlpatterns = [\n",
    "    path('', views.index, name='index'),\n",
    "]\" > myapp/urls.py"
   ]
  },
  {
   "cell_type": "markdown",
   "metadata": {},
   "source": [
    "* Ajout des [urls](../edit/myproject/myapp/urls.py) dans le [fichier `myproject/urls.py`](../edit/myproject/myproject/urls.py) :"
   ]
  },
  {
   "cell_type": "code",
   "execution_count": 41,
   "metadata": {
    "scrolled": true
   },
   "outputs": [],
   "source": [
    "%%bash\n",
    "sed -i \"/from django.urls /a from django.urls import include\" myproject/urls.py\n",
    "sed -i \"/urlpatterns = \\[/a\\    path('myapp/', include('myapp.urls')),\" myproject/urls.py"
   ]
  },
  {
   "cell_type": "markdown",
   "metadata": {},
   "source": [
    "## Initialisation du server\n",
    "* Dans un [terminal](../terminals/runserver), exécuter `python manage.py runserver`"
   ]
  },
  {
   "cell_type": "markdown",
   "metadata": {},
   "source": [
    "## Affichage de la page"
   ]
  },
  {
   "cell_type": "code",
   "execution_count": 47,
   "metadata": {},
   "outputs": [
    {
     "data": {
      "text/html": [
       "<!DOCTYPE html>\n",
       "<html lang=\"en\">\n",
       "<head>\n",
       "  <meta http-equiv=\"content-type\" content=\"text/html; charset=utf-8\">\n",
       "  <title>Page not found at /</title>\n",
       "  <meta name=\"robots\" content=\"NONE,NOARCHIVE\">\n",
       "  <style type=\"text/css\">\n",
       "    html * { padding:0; margin:0; }\n",
       "    body * { padding:10px 20px; }\n",
       "    body * * { padding:0; }\n",
       "    body { font:small sans-serif; background:#eee; color:#000; }\n",
       "    body>div { border-bottom:1px solid #ddd; }\n",
       "    h1 { font-weight:normal; margin-bottom:.4em; }\n",
       "    h1 span { font-size:60%; color:#666; font-weight:normal; }\n",
       "    table { border:none; border-collapse: collapse; width:100%; }\n",
       "    td, th { vertical-align:top; padding:2px 3px; }\n",
       "    th { width:12em; text-align:right; color:#666; padding-right:.5em; }\n",
       "    #info { background:#f6f6f6; }\n",
       "    #info ol { margin: 0.5em 4em; }\n",
       "    #info ol li { font-family: monospace; }\n",
       "    #summary { background: #ffc; }\n",
       "    #explanation { background:#eee; border-bottom: 0px none; }\n",
       "  </style>\n",
       "</head>\n",
       "<body>\n",
       "  <div id=\"summary\">\n",
       "    <h1>Page not found <span>(404)</span></h1>\n",
       "    <table class=\"meta\">\n",
       "      <tr>\n",
       "        <th>Request Method:</th>\n",
       "        <td>GET</td>\n",
       "      </tr>\n",
       "      <tr>\n",
       "        <th>Request URL:</th>\n",
       "        <td>http://127.0.0.1:8000/</td>\n",
       "      </tr>\n",
       "      \n",
       "    </table>\n",
       "  </div>\n",
       "  <div id=\"info\">\n",
       "    \n",
       "      <p>\n",
       "      Using the URLconf defined in <code>myproject.urls</code>,\n",
       "      Django tried these URL patterns, in this order:\n",
       "      </p>\n",
       "      <ol>\n",
       "        \n",
       "          <li>\n",
       "            \n",
       "                myapp/\n",
       "                \n",
       "            \n",
       "          </li>\n",
       "        \n",
       "          <li>\n",
       "            \n",
       "                admin/\n",
       "                \n",
       "            \n",
       "          </li>\n",
       "        \n",
       "      </ol>\n",
       "      <p>\n",
       "        \n",
       "        The empty path didn't match any of these.\n",
       "      </p>\n",
       "    \n",
       "  </div>\n",
       "\n",
       "  <div id=\"explanation\">\n",
       "    <p>\n",
       "      You're seeing this error because you have <code>DEBUG = True</code> in\n",
       "      your Django settings file. Change that to <code>False</code>, and Django\n",
       "      will display a standard 404 page.\n",
       "    </p>\n",
       "  </div>\n",
       "</body>\n",
       "</html>\n"
      ],
      "text/plain": [
       "<IPython.core.display.HTML object>"
      ]
     },
     "metadata": {},
     "output_type": "display_data"
    }
   ],
   "source": [
    "content = requests.get('http://127.0.0.1:8000').text\n",
    "display(HTML(content))"
   ]
  },
  {
   "cell_type": "code",
   "execution_count": 45,
   "metadata": {},
   "outputs": [
    {
     "data": {
      "text/html": [
       "Hello, from myapp index."
      ],
      "text/plain": [
       "<IPython.core.display.HTML object>"
      ]
     },
     "metadata": {},
     "output_type": "display_data"
    }
   ],
   "source": [
    "content = requests.get('http://127.0.0.1:8000/myapp').text\n",
    "display(HTML(content))"
   ]
  },
  {
   "cell_type": "code",
   "execution_count": 46,
   "metadata": {},
   "outputs": [
    {
     "data": {
      "text/html": [
       "<!DOCTYPE html>\n",
       "\n",
       "<html lang=\"en-us\" >\n",
       "<head>\n",
       "<title>Log in | Django site admin</title>\n",
       "<link rel=\"stylesheet\" type=\"text/css\" href=\"/static/admin/css/base.css\">\n",
       "<link rel=\"stylesheet\" type=\"text/css\" href=\"/static/admin/css/login.css\">\n",
       "\n",
       "\n",
       "\n",
       "\n",
       "\n",
       "    <meta name=\"viewport\" content=\"user-scalable=no, width=device-width, initial-scale=1.0, maximum-scale=1.0\">\n",
       "    <link rel=\"stylesheet\" type=\"text/css\" href=\"/static/admin/css/responsive.css\">\n",
       "    \n",
       "\n",
       "<meta name=\"robots\" content=\"NONE,NOARCHIVE\">\n",
       "</head>\n",
       "\n",
       "\n",
       "<body class=\" login\"\n",
       "  data-admin-utc-offset=\"0\">\n",
       "\n",
       "<!-- Container -->\n",
       "<div id=\"container\">\n",
       "\n",
       "    \n",
       "    <!-- Header -->\n",
       "    <div id=\"header\">\n",
       "        <div id=\"branding\">\n",
       "        \n",
       "<h1 id=\"site-name\"><a href=\"/admin/\">Django administration</a></h1>\n",
       "\n",
       "        </div>\n",
       "        \n",
       "        \n",
       "    </div>\n",
       "    <!-- END Header -->\n",
       "    \n",
       "    \n",
       "\n",
       "    \n",
       "        \n",
       "    \n",
       "\n",
       "    <!-- Content -->\n",
       "    <div id=\"content\" class=\"colM\">\n",
       "        \n",
       "        \n",
       "        \n",
       "\n",
       "\n",
       "\n",
       "\n",
       "<div id=\"content-main\">\n",
       "\n",
       "\n",
       "\n",
       "<form action=\"/admin/login/?next=/admin/\" method=\"post\" id=\"login-form\"><input type=\"hidden\" name=\"csrfmiddlewaretoken\" value=\"4mbWWQAXsMbkVKIfL6a94Oiw5XYlSyTLyDTS9KMUVXTCdID7CbAoxb6j6pkYUkdS\">\n",
       "  <div class=\"form-row\">\n",
       "    \n",
       "    <label class=\"required\" for=\"id_username\">Username:</label> <input type=\"text\" name=\"username\" autofocus required id=\"id_username\">\n",
       "  </div>\n",
       "  <div class=\"form-row\">\n",
       "    \n",
       "    <label class=\"required\" for=\"id_password\">Password:</label> <input type=\"password\" name=\"password\" required id=\"id_password\">\n",
       "    <input type=\"hidden\" name=\"next\" value=\"/admin/\">\n",
       "  </div>\n",
       "  \n",
       "  \n",
       "  <div class=\"submit-row\">\n",
       "    <label>&nbsp;</label><input type=\"submit\" value=\"Log in\">\n",
       "  </div>\n",
       "</form>\n",
       "\n",
       "</div>\n",
       "\n",
       "        \n",
       "        <br class=\"clear\">\n",
       "    </div>\n",
       "    <!-- END Content -->\n",
       "\n",
       "    <div id=\"footer\"></div>\n",
       "</div>\n",
       "<!-- END Container -->\n",
       "\n",
       "</body>\n",
       "</html>\n"
      ],
      "text/plain": [
       "<IPython.core.display.HTML object>"
      ]
     },
     "metadata": {},
     "output_type": "display_data"
    }
   ],
   "source": [
    "content = requests.get('http://127.0.0.1:8000/admin').text\n",
    "display(HTML(content))"
   ]
  },
  {
   "cell_type": "markdown",
   "metadata": {},
   "source": [
    "# Versions"
   ]
  },
  {
   "cell_type": "code",
   "execution_count": 32,
   "metadata": {
    "scrolled": true
   },
   "outputs": [
    {
     "name": "stdout",
     "output_type": "stream",
     "text": [
      "django                    2.2.5                    pypi_0    pypi\r\n",
      "ipywidgets                7.4.2                      py_0    conda-forge\r\n",
      "nbconvert                 5.4.1                      py_2    conda-forge\r\n"
     ]
    }
   ],
   "source": [
    "!conda list | grep -E 'django|ipywidgets|nbconvert'"
   ]
  }
 ],
 "metadata": {
  "kernelspec": {
   "display_name": "Python 3",
   "language": "python",
   "name": "python3"
  },
  "language_info": {
   "codemirror_mode": {
    "name": "ipython",
    "version": 3
   },
   "file_extension": ".py",
   "mimetype": "text/x-python",
   "name": "python",
   "nbconvert_exporter": "python",
   "pygments_lexer": "ipython3",
   "version": "3.7.3"
  }
 },
 "nbformat": 4,
 "nbformat_minor": 2
}
