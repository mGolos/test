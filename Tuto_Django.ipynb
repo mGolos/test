{
 "cells": [
  {
   "cell_type": "markdown",
   "metadata": {
    "slideshow": {
     "slide_type": "slide"
    }
   },
   "source": [
    "# Prérequis"
   ]
  },
  {
   "cell_type": "markdown",
   "metadata": {
    "slideshow": {
     "slide_type": "subslide"
    }
   },
   "source": [
    "## Environnement de développement\n",
    "* Ne pas faire l'erreur d'utiliser l'environnement de développement du système\n",
    "* Fichiers de configuration &rarr; réplicabilité et reproductabilité\n",
    "* Si lancée à l'extérieure de Binder et Anaconda ou Miniconda installé :  \n",
    "    ```bash\n",
    "    conda env create -f environment.yml --name django_test\n",
    "    conda activate django_test\n",
    "    jupyter contrib nbextension install --user\n",
    "    jupyter notebook\n",
    "    ```"
   ]
  },
  {
   "cell_type": "markdown",
   "metadata": {
    "slideshow": {
     "slide_type": "skip"
    }
   },
   "source": [
    "## Librairies\n",
    "* Fonctions personnelles et locales dans [`functions.py`](/edit/functions.py)\n",
    "* Librairies de visualisation"
   ]
  },
  {
   "cell_type": "code",
   "execution_count": 1,
   "metadata": {
    "slideshow": {
     "slide_type": "skip"
    }
   },
   "outputs": [],
   "source": [
    "import functions as fc\n",
    "from IPython.display import display, HTML"
   ]
  },
  {
   "cell_type": "markdown",
   "metadata": {
    "slideshow": {
     "slide_type": "skip"
    }
   },
   "source": [
    "## Adresse IP\n",
    "De l'instance de Binder ou personnelle publique"
   ]
  },
  {
   "cell_type": "code",
   "execution_count": 2,
   "metadata": {
    "slideshow": {
     "slide_type": "skip"
    }
   },
   "outputs": [
    {
     "name": "stdout",
     "output_type": "stream",
     "text": [
      "90.127.236.2\n"
     ]
    }
   ],
   "source": [
    "import requests\n",
    "ip = requests.get('http://ip.42.pl/raw').text; print(ip)"
   ]
  },
  {
   "cell_type": "markdown",
   "metadata": {
    "slideshow": {
     "slide_type": "skip"
    }
   },
   "source": [
    "## Reinitialisations"
   ]
  },
  {
   "cell_type": "markdown",
   "metadata": {
    "slideshow": {
     "slide_type": "skip"
    }
   },
   "source": [
    "* Projet :"
   ]
  },
  {
   "cell_type": "code",
   "execution_count": 4,
   "metadata": {},
   "outputs": [],
   "source": [
    "import shutil\n",
    "shutil.rmtree('myproject')"
   ]
  },
  {
   "cell_type": "markdown",
   "metadata": {
    "slideshow": {
     "slide_type": "skip"
    }
   },
   "source": [
    "* Fonctions :"
   ]
  },
  {
   "cell_type": "code",
   "execution_count": 14,
   "metadata": {
    "slideshow": {
     "slide_type": "skip"
    }
   },
   "outputs": [],
   "source": [
    "from importlib import reload\n",
    "fc = reload(fc)"
   ]
  },
  {
   "cell_type": "markdown",
   "metadata": {
    "slideshow": {
     "slide_type": "slide"
    }
   },
   "source": [
    "# Simple Django"
   ]
  },
  {
   "cell_type": "markdown",
   "metadata": {
    "slideshow": {
     "slide_type": "subslide"
    }
   },
   "source": [
    "## Création d'un projet"
   ]
  },
  {
   "cell_type": "code",
   "execution_count": 1,
   "metadata": {
    "slideshow": {
     "slide_type": "-"
    }
   },
   "outputs": [],
   "source": [
    "!django-admin startproject myproject"
   ]
  },
  {
   "cell_type": "code",
   "execution_count": 7,
   "metadata": {
    "slideshow": {
     "slide_type": "-"
    }
   },
   "outputs": [
    {
     "data": {
      "text/markdown": [
       "[manage.py](../edit/myproject/./manage.py)<br/>myproject/<br/>&nbsp;&nbsp;&nbsp;&nbsp;[settings.py](../edit/myproject/./myproject/settings.py)<br/>&nbsp;&nbsp;&nbsp;&nbsp;[wsgi.py](../edit/myproject/./myproject/wsgi.py)<br/>&nbsp;&nbsp;&nbsp;&nbsp;[urls.py](../edit/myproject/./myproject/urls.py)<br/>"
      ],
      "text/plain": [
       "<IPython.core.display.Markdown object>"
      ]
     },
     "execution_count": 7,
     "metadata": {},
     "output_type": "execute_result"
    }
   ],
   "source": [
    "fc.tree('myproject')"
   ]
  },
  {
   "cell_type": "markdown",
   "metadata": {
    "slideshow": {
     "slide_type": "subslide"
    }
   },
   "source": [
    "## Création d'une application"
   ]
  },
  {
   "cell_type": "code",
   "execution_count": 2,
   "metadata": {
    "slideshow": {
     "slide_type": "-"
    }
   },
   "outputs": [
    {
     "name": "stdout",
     "output_type": "stream",
     "text": [
      "D:\\GitHub\\test\\myproject\n"
     ]
    }
   ],
   "source": [
    "cd myproject"
   ]
  },
  {
   "cell_type": "code",
   "execution_count": 3,
   "metadata": {},
   "outputs": [],
   "source": [
    "!python manage.py startapp myapp"
   ]
  },
  {
   "cell_type": "code",
   "execution_count": 9,
   "metadata": {},
   "outputs": [
    {
     "data": {
      "text/markdown": [
       "[manage.py](../edit/myproject/./manage.py)<br/>myproject/<br/>&nbsp;&nbsp;&nbsp;&nbsp;[settings.py](../edit/myproject/./myproject/settings.py)<br/>&nbsp;&nbsp;&nbsp;&nbsp;[wsgi.py](../edit/myproject/./myproject/wsgi.py)<br/>&nbsp;&nbsp;&nbsp;&nbsp;[urls.py](../edit/myproject/./myproject/urls.py)<br/>myapp/<br/>&nbsp;&nbsp;&nbsp;&nbsp;[models.py](../edit/myproject/./myapp/models.py)<br/>&nbsp;&nbsp;&nbsp;&nbsp;[apps.py](../edit/myproject/./myapp/apps.py)<br/>&nbsp;&nbsp;&nbsp;&nbsp;[tests.py](../edit/myproject/./myapp/tests.py)<br/>&nbsp;&nbsp;&nbsp;&nbsp;[views.py](../edit/myproject/./myapp/views.py)<br/>&nbsp;&nbsp;&nbsp;&nbsp;[admin.py](../edit/myproject/./myapp/admin.py)<br/>"
      ],
      "text/plain": [
       "<IPython.core.display.Markdown object>"
      ]
     },
     "execution_count": 9,
     "metadata": {},
     "output_type": "execute_result"
    }
   ],
   "source": [
    "fc.tree()"
   ]
  },
  {
   "cell_type": "markdown",
   "metadata": {
    "slideshow": {
     "slide_type": "slide"
    }
   },
   "source": [
    "## Configuration"
   ]
  },
  {
   "cell_type": "markdown",
   "metadata": {
    "slideshow": {
     "slide_type": "subslide"
    }
   },
   "source": [
    "### Application"
   ]
  },
  {
   "cell_type": "markdown",
   "metadata": {},
   "source": [
    "* Modification du fichier [`myapp/views.py`](../edit/myproject/myapp/views.py) :"
   ]
  },
  {
   "cell_type": "code",
   "execution_count": 12,
   "metadata": {},
   "outputs": [],
   "source": [
    "f = open('myapp/views.py', 'w+')\n",
    "f.write('''\n",
    "    from django.http import HttpResponse\n",
    "    def index(request):\n",
    "        return HttpResponse(\\\"Hello, from myapp index.\\\")\n",
    "''');"
   ]
  },
  {
   "cell_type": "markdown",
   "metadata": {
    "slideshow": {
     "slide_type": "subslide"
    }
   },
   "source": [
    "### Application principale"
   ]
  },
  {
   "cell_type": "markdown",
   "metadata": {},
   "source": [
    "* Ajout des applications dans le [`myproject/settings.py`](../edit/myproject/myproject/settings.py) :"
   ]
  },
  {
   "cell_type": "code",
   "execution_count": 19,
   "metadata": {},
   "outputs": [],
   "source": [
    "%%bash\n",
    "sed -i \"/INSTALLED_APPS = \\[/a\\    'myapp.apps.MyappConfig',\" myproject/settings.py"
   ]
  },
  {
   "cell_type": "markdown",
   "metadata": {
    "slideshow": {
     "slide_type": "subslide"
    }
   },
   "source": [
    "* Création du fichier `myapp/urls.py` :"
   ]
  },
  {
   "cell_type": "code",
   "execution_count": 42,
   "metadata": {},
   "outputs": [],
   "source": [
    "%%bash\n",
    "echo \"from django.urls import path\n",
    "from myapp import views\n",
    "\n",
    "urlpatterns = [\n",
    "    path('', views.index, name='index'),\n",
    "]\" > myapp/urls.py"
   ]
  },
  {
   "cell_type": "markdown",
   "metadata": {
    "slideshow": {
     "slide_type": "subslide"
    }
   },
   "source": [
    "* Ajout des [urls](../edit/myproject/myapp/urls.py) dans le [fichier `myproject/urls.py`](../edit/myproject/myproject/urls.py) :"
   ]
  },
  {
   "cell_type": "code",
   "execution_count": 41,
   "metadata": {
    "scrolled": true
   },
   "outputs": [],
   "source": [
    "%%bash\n",
    "sed -i \"/from django.urls /a from django.urls import include\" myproject/urls.py\n",
    "sed -i \"/urlpatterns = \\[/a\\    path('myapp/', include('myapp.urls')),\" myproject/urls.py"
   ]
  },
  {
   "cell_type": "markdown",
   "metadata": {
    "slideshow": {
     "slide_type": "slide"
    }
   },
   "source": [
    "## Initialisation du server\n",
    "* Dans un [terminal](../terminals/runserver), exécuter `python manage.py runserver`"
   ]
  },
  {
   "cell_type": "markdown",
   "metadata": {
    "slideshow": {
     "slide_type": "subslide"
    }
   },
   "source": [
    "## Affichage de la page"
   ]
  },
  {
   "cell_type": "code",
   "execution_count": 47,
   "metadata": {
    "slideshow": {
     "slide_type": "-"
    }
   },
   "outputs": [
    {
     "data": {
      "text/html": [
       "<!DOCTYPE html>\n",
       "<html lang=\"en\">\n",
       "<head>\n",
       "  <meta http-equiv=\"content-type\" content=\"text/html; charset=utf-8\">\n",
       "  <title>Page not found at /</title>\n",
       "  <meta name=\"robots\" content=\"NONE,NOARCHIVE\">\n",
       "  <style type=\"text/css\">\n",
       "    html * { padding:0; margin:0; }\n",
       "    body * { padding:10px 20px; }\n",
       "    body * * { padding:0; }\n",
       "    body { font:small sans-serif; background:#eee; color:#000; }\n",
       "    body>div { border-bottom:1px solid #ddd; }\n",
       "    h1 { font-weight:normal; margin-bottom:.4em; }\n",
       "    h1 span { font-size:60%; color:#666; font-weight:normal; }\n",
       "    table { border:none; border-collapse: collapse; width:100%; }\n",
       "    td, th { vertical-align:top; padding:2px 3px; }\n",
       "    th { width:12em; text-align:right; color:#666; padding-right:.5em; }\n",
       "    #info { background:#f6f6f6; }\n",
       "    #info ol { margin: 0.5em 4em; }\n",
       "    #info ol li { font-family: monospace; }\n",
       "    #summary { background: #ffc; }\n",
       "    #explanation { background:#eee; border-bottom: 0px none; }\n",
       "  </style>\n",
       "</head>\n",
       "<body>\n",
       "  <div id=\"summary\">\n",
       "    <h1>Page not found <span>(404)</span></h1>\n",
       "    <table class=\"meta\">\n",
       "      <tr>\n",
       "        <th>Request Method:</th>\n",
       "        <td>GET</td>\n",
       "      </tr>\n",
       "      <tr>\n",
       "        <th>Request URL:</th>\n",
       "        <td>http://127.0.0.1:8000/</td>\n",
       "      </tr>\n",
       "      \n",
       "    </table>\n",
       "  </div>\n",
       "  <div id=\"info\">\n",
       "    \n",
       "      <p>\n",
       "      Using the URLconf defined in <code>myproject.urls</code>,\n",
       "      Django tried these URL patterns, in this order:\n",
       "      </p>\n",
       "      <ol>\n",
       "        \n",
       "          <li>\n",
       "            \n",
       "                myapp/\n",
       "                \n",
       "            \n",
       "          </li>\n",
       "        \n",
       "          <li>\n",
       "            \n",
       "                admin/\n",
       "                \n",
       "            \n",
       "          </li>\n",
       "        \n",
       "      </ol>\n",
       "      <p>\n",
       "        \n",
       "        The empty path didn't match any of these.\n",
       "      </p>\n",
       "    \n",
       "  </div>\n",
       "\n",
       "  <div id=\"explanation\">\n",
       "    <p>\n",
       "      You're seeing this error because you have <code>DEBUG = True</code> in\n",
       "      your Django settings file. Change that to <code>False</code>, and Django\n",
       "      will display a standard 404 page.\n",
       "    </p>\n",
       "  </div>\n",
       "</body>\n",
       "</html>\n"
      ],
      "text/plain": [
       "<IPython.core.display.HTML object>"
      ]
     },
     "metadata": {},
     "output_type": "display_data"
    }
   ],
   "source": [
    "content = requests.get('http://127.0.0.1:8000').text\n",
    "display(HTML(content))"
   ]
  },
  {
   "cell_type": "code",
   "execution_count": 45,
   "metadata": {
    "slideshow": {
     "slide_type": "subslide"
    }
   },
   "outputs": [
    {
     "data": {
      "text/html": [
       "Hello, from myapp index."
      ],
      "text/plain": [
       "<IPython.core.display.HTML object>"
      ]
     },
     "metadata": {},
     "output_type": "display_data"
    }
   ],
   "source": [
    "content = requests.get('http://127.0.0.1:8000/myapp').text\n",
    "display(HTML(content))"
   ]
  },
  {
   "cell_type": "code",
   "execution_count": null,
   "metadata": {
    "slideshow": {
     "slide_type": "subslide"
    }
   },
   "outputs": [],
   "source": [
    "content = requests.get('http://127.0.0.1:8000/admin').text\n",
    "display(HTML(content))"
   ]
  },
  {
   "cell_type": "markdown",
   "metadata": {
    "slideshow": {
     "slide_type": "skip"
    }
   },
   "source": [
    "# Nettoyage\n",
    "* Suppression de l'environnement conda : `conda remove --name django_test --all`"
   ]
  },
  {
   "cell_type": "markdown",
   "metadata": {
    "slideshow": {
     "slide_type": "slide"
    }
   },
   "source": [
    "# Versions"
   ]
  },
  {
   "cell_type": "code",
   "execution_count": 10,
   "metadata": {
    "scrolled": true
   },
   "outputs": [
    {
     "name": "stdout",
     "output_type": "stream",
     "text": [
      "# packages in environment at C:\\Users\\mathi\\Anaconda3\\envs\\django_test:\n",
      "#\n",
      "# Name                    Version                   Build  Channel\n",
      "asn1crypto                0.24.0                   py37_0  \n",
      "attrs                     19.1.0                   py37_1  \n",
      "backcall                  0.1.0                    py37_0  \n",
      "beautifulsoup4            4.8.0                    py37_0  \n",
      "bleach                    3.1.0                    py37_0  \n",
      "ca-certificates           2019.5.15                     1  \n",
      "certifi                   2019.6.16                py37_1  \n",
      "cffi                      1.12.3           py37h7a1dbc1_0  \n",
      "chardet                   3.0.4                 py37_1003  \n",
      "colorama                  0.4.1                    py37_0  \n",
      "cryptography              2.7              py37h7a1dbc1_0  \n",
      "decorator                 4.4.0                    py37_1  \n",
      "defusedxml                0.6.0                      py_0  \n",
      "django                    2.2.1                    py37_0  \n",
      "entrypoints               0.3                      py37_0  \n",
      "html5lib                  1.0.1                    py37_0  \n",
      "icu                       58.2                 ha66f8fd_1  \n",
      "idna                      2.8                      py37_0  \n",
      "ipykernel                 5.1.2            py37h39e3cac_0  \n",
      "ipython                   7.8.0            py37h39e3cac_0  \n",
      "ipython_genutils          0.2.0                    py37_0  \n",
      "ipywidgets                7.5.1                      py_0  \n",
      "jedi                      0.15.1                   py37_0  \n",
      "jinja2                    2.10.1                   py37_0  \n",
      "jpeg                      9b                   hb83a4c4_2  \n",
      "jsonschema                3.0.2                    py37_0  \n",
      "jupyter                   1.0.0                    py37_7  \n",
      "jupyter-contrib-core      0.3.3                    pypi_0    pypi\n",
      "jupyter-contrib-nbextensions 0.5.1                    pypi_0    pypi\n",
      "jupyter-highlight-selected-word 0.2.0                    pypi_0    pypi\n",
      "jupyter-latex-envs        1.4.6                    pypi_0    pypi\n",
      "jupyter-nbextensions-configurator 0.4.1                    pypi_0    pypi\n",
      "jupyter_client            5.3.1                      py_0  \n",
      "jupyter_console           6.0.0                    py37_0  \n",
      "jupyter_core              4.5.0                      py_0  \n",
      "libiconv                  1.15                 h1df5818_7  \n",
      "libpng                    1.6.37               h2a8f88b_0  \n",
      "libsodium                 1.0.16               h9d3ae62_0  \n",
      "libxml2                   2.9.9                h464c3ec_0  \n",
      "libxslt                   1.1.33               h579f668_0  \n",
      "lxml                      4.4.1            py37h1350720_0  \n",
      "m2w64-gcc-libgfortran     5.3.0                         6  \n",
      "m2w64-gcc-libs            5.3.0                         7  \n",
      "m2w64-gcc-libs-core       5.3.0                         7  \n",
      "m2w64-gmp                 6.1.0                         2  \n",
      "m2w64-libwinpthread-git   5.0.0.4634.697f757               2  \n",
      "markupsafe                1.1.1            py37he774522_0  \n",
      "mistune                   0.8.4            py37he774522_0  \n",
      "msys2-conda-epoch         20160418                      1  \n",
      "nb_conda                  2.2.1                    py37_0  \n",
      "nb_conda_kernels          2.2.2                    py37_0  \n",
      "nbconvert                 5.5.0                      py_0  \n",
      "nbformat                  4.4.0                    py37_0  \n",
      "notebook                  6.0.1                    py37_0  \n",
      "openssl                   1.1.1d               he774522_0  \n",
      "pandoc                    2.2.3.2                       0  \n",
      "pandocfilters             1.4.2                    py37_1  \n",
      "parso                     0.5.1                      py_0  \n",
      "pickleshare               0.7.5                    py37_0  \n",
      "pip                       19.2.2                   py37_0  \n",
      "prometheus_client         0.7.1                      py_0  \n",
      "prompt_toolkit            2.0.9                    py37_0  \n",
      "pycparser                 2.19                     py37_0  \n",
      "pygments                  2.4.2                      py_0  \n",
      "pyopenssl                 19.0.0                   py37_0  \n",
      "pyqt                      5.9.2            py37h6538335_2  \n",
      "pyrsistent                0.14.11          py37he774522_0  \n",
      "pysed                     0.7.8                    pypi_0    pypi\n",
      "pysocks                   1.7.0                    py37_0  \n",
      "python                    3.7.4                h5263a28_0  \n",
      "python-dateutil           2.8.0                    py37_0  \n",
      "python-graphviz           0.13                     pypi_0    pypi\n",
      "pytz                      2019.2                     py_0  \n",
      "pywinpty                  0.5.5                 py37_1000  \n",
      "pyyaml                    5.1.2                    pypi_0    pypi\n",
      "pyzmq                     18.1.0           py37ha925a31_0  \n",
      "qt                        5.9.7            vc14h73c81de_0  \n",
      "qtconsole                 4.5.5                      py_0  \n",
      "requests                  2.22.0                   py37_0  \n",
      "rise                      5.4.1                 py37_1000  \n",
      "send2trash                1.5.0                    py37_0  \n",
      "setuptools                41.0.1                   py37_0  \n",
      "sip                       4.19.8           py37h6538335_0  \n",
      "six                       1.12.0                   py37_0  \n",
      "soupsieve                 1.9.2                    py37_0  \n",
      "sqlite                    3.29.0               he774522_0  \n",
      "sqlparse                  0.3.0                      py_0  \n",
      "terminado                 0.8.2                    py37_0  \n",
      "testpath                  0.4.2                    py37_0  \n",
      "tornado                   6.0.3            py37he774522_0  \n",
      "traitlets                 4.3.2                    py37_0  \n",
      "urllib3                   1.24.2                   py37_0  \n",
      "vc                        14.1                 h0510ff6_4  \n",
      "vs2015_runtime            14.16.27012          hf0eaf9b_0  \n",
      "wcwidth                   0.1.7                    py37_0  \n",
      "webencodings              0.5.1                    py37_1  \n",
      "werkzeug                  0.16.0                   pypi_0    pypi\n",
      "wheel                     0.33.4                   py37_0  \n",
      "widgetsnbextension        3.5.1                    py37_0  \n",
      "win_inet_pton             1.1.0                    py37_0  \n",
      "wincertstore              0.2                      py37_0  \n",
      "winpty                    0.4.3                         4  \n",
      "zeromq                    4.3.1                h33f27b4_3  \n",
      "zlib                      1.2.11               h62dcd97_3  \n"
     ]
    }
   ],
   "source": [
    "!conda list"
   ]
  }
 ],
 "metadata": {
  "celltoolbar": "Format de la Cellule Texte Brut",
  "kernelspec": {
   "display_name": "Python 3",
   "language": "python",
   "name": "python3"
  },
  "language_info": {
   "codemirror_mode": {
    "name": "ipython",
    "version": 3
   },
   "file_extension": ".py",
   "mimetype": "text/x-python",
   "name": "python",
   "nbconvert_exporter": "python",
   "pygments_lexer": "ipython3",
   "version": "3.7.4"
  },
  "toc": {
   "base_numbering": 1,
   "nav_menu": {
    "height": "290px",
    "width": "278px"
   },
   "number_sections": true,
   "sideBar": true,
   "skip_h1_title": false,
   "title_cell": "Table of Contents",
   "title_sidebar": "Contents",
   "toc_cell": false,
   "toc_position": {
    "height": "calc(100% - 180px)",
    "left": "10px",
    "top": "150px",
    "width": "288px"
   },
   "toc_section_display": true,
   "toc_window_display": false
  },
  "varInspector": {
   "cols": {
    "lenName": 16,
    "lenType": 16,
    "lenVar": 40
   },
   "kernels_config": {
    "python": {
     "delete_cmd_postfix": "",
     "delete_cmd_prefix": "del ",
     "library": "var_list.py",
     "varRefreshCmd": "print(var_dic_list())"
    },
    "r": {
     "delete_cmd_postfix": ") ",
     "delete_cmd_prefix": "rm(",
     "library": "var_list.r",
     "varRefreshCmd": "cat(var_dic_list()) "
    }
   },
   "types_to_exclude": [
    "module",
    "function",
    "builtin_function_or_method",
    "instance",
    "_Feature"
   ],
   "window_display": false
  }
 },
 "nbformat": 4,
 "nbformat_minor": 2
}
