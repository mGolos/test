{
 "cells": [
  {
   "cell_type": "markdown",
   "metadata": {
    "slideshow": {
     "slide_type": "skip"
    },
    "toc": true
   },
   "source": [
    "<h1>Table of Contents<span class=\"tocSkip\"></span></h1>\n",
    "<div class=\"toc\"><ul class=\"toc-item\"><li><span><a href=\"#Visuel-de-Notes\" data-toc-modified-id=\"Visuel-de-Notes-1\"><span class=\"toc-item-num\">1&nbsp;&nbsp;</span>Visuel de Notes</a></span></li><li><span><a href=\"#Prérequis\" data-toc-modified-id=\"Prérequis-2\"><span class=\"toc-item-num\">2&nbsp;&nbsp;</span>Prérequis</a></span><ul class=\"toc-item\"><li><span><a href=\"#Installation\" data-toc-modified-id=\"Installation-2.1\"><span class=\"toc-item-num\">2.1&nbsp;&nbsp;</span>Installation</a></span><ul class=\"toc-item\"><li><span><a href=\"#En-ligne\" data-toc-modified-id=\"En-ligne-2.1.1\"><span class=\"toc-item-num\">2.1.1&nbsp;&nbsp;</span>En ligne</a></span></li><li><span><a href=\"#ou-locale\" data-toc-modified-id=\"ou-locale-2.1.2\"><span class=\"toc-item-num\">2.1.2&nbsp;&nbsp;</span>ou locale</a></span></li></ul></li><li><span><a href=\"#Librairies\" data-toc-modified-id=\"Librairies-2.2\"><span class=\"toc-item-num\">2.2&nbsp;&nbsp;</span>Librairies</a></span></li></ul></li><li><span><a href=\"#Architecture\" data-toc-modified-id=\"Architecture-3\"><span class=\"toc-item-num\">3&nbsp;&nbsp;</span>Architecture</a></span><ul class=\"toc-item\"><li><span><a href=\"#Création-d'un-projet\" data-toc-modified-id=\"Création-d'un-projet-3.1\"><span class=\"toc-item-num\">3.1&nbsp;&nbsp;</span>Création d'un projet</a></span></li><li><span><a href=\"#Création-d'une-application\" data-toc-modified-id=\"Création-d'une-application-3.2\"><span class=\"toc-item-num\">3.2&nbsp;&nbsp;</span>Création d'une application</a></span></li><li><span><a href=\"#Fichiers\" data-toc-modified-id=\"Fichiers-3.3\"><span class=\"toc-item-num\">3.3&nbsp;&nbsp;</span>Fichiers</a></span></li></ul></li><li><span><a href=\"#Configuration\" data-toc-modified-id=\"Configuration-4\"><span class=\"toc-item-num\">4&nbsp;&nbsp;</span>Configuration</a></span><ul class=\"toc-item\"><li><span><a href=\"#Application\" data-toc-modified-id=\"Application-4.1\"><span class=\"toc-item-num\">4.1&nbsp;&nbsp;</span>Application</a></span></li><li><span><a href=\"#Application-principale\" data-toc-modified-id=\"Application-principale-4.2\"><span class=\"toc-item-num\">4.2&nbsp;&nbsp;</span>Application principale</a></span></li><li><span><a href=\"#Initialisation-du-server\" data-toc-modified-id=\"Initialisation-du-server-4.3\"><span class=\"toc-item-num\">4.3&nbsp;&nbsp;</span>Initialisation du server</a></span></li><li><span><a href=\"#Vues\" data-toc-modified-id=\"Vues-4.4\"><span class=\"toc-item-num\">4.4&nbsp;&nbsp;</span>Vues</a></span></li><li><span><a href=\"#Gabarits\" data-toc-modified-id=\"Gabarits-4.5\"><span class=\"toc-item-num\">4.5&nbsp;&nbsp;</span>Gabarits</a></span></li></ul></li><li><span><a href=\"#Pythonification\" data-toc-modified-id=\"Pythonification-5\"><span class=\"toc-item-num\">5&nbsp;&nbsp;</span>Pythonification</a></span><ul class=\"toc-item\"><li><span><a href=\"#Formulaires\" data-toc-modified-id=\"Formulaires-5.1\"><span class=\"toc-item-num\">5.1&nbsp;&nbsp;</span>Formulaires</a></span></li><li><span><a href=\"#Formulé-différemment\" data-toc-modified-id=\"Formulé-différemment-5.2\"><span class=\"toc-item-num\">5.2&nbsp;&nbsp;</span>Formulé différemment</a></span></li></ul></li><li><span><a href=\"#Administration\" data-toc-modified-id=\"Administration-6\"><span class=\"toc-item-num\">6&nbsp;&nbsp;</span>Administration</a></span></li><li><span><a href=\"#Autres\" data-toc-modified-id=\"Autres-7\"><span class=\"toc-item-num\">7&nbsp;&nbsp;</span>Autres</a></span><ul class=\"toc-item\"><li><span><a href=\"#Versions\" data-toc-modified-id=\"Versions-7.1\"><span class=\"toc-item-num\">7.1&nbsp;&nbsp;</span>Versions</a></span></li><li><span><a href=\"#Nettoyage\" data-toc-modified-id=\"Nettoyage-7.2\"><span class=\"toc-item-num\">7.2&nbsp;&nbsp;</span>Nettoyage</a></span></li></ul></li></ul></div>"
   ]
  },
  {
   "cell_type": "markdown",
   "metadata": {
    "slideshow": {
     "slide_type": "slide"
    }
   },
   "source": [
    "<center><img src=\"https://www.django-creation.fr/static/dj_creation/images/pic2.png\" style=\"height:200px\"></center>\n"
   ]
  },
  {
   "cell_type": "markdown",
   "metadata": {
    "slideshow": {
     "slide_type": "subslide"
    }
   },
   "source": [
    "<center><img src=\"https://149351115.v2.pressablecdn.com/wp-content/uploads/2017/09/growth_major_languages-1-1024x878.png\" style=\"height:500px\"></center>"
   ]
  },
  {
   "cell_type": "markdown",
   "metadata": {
    "heading_collapsed": true,
    "slideshow": {
     "slide_type": "skip"
    }
   },
   "source": [
    "# Visuel de Notes"
   ]
  },
  {
   "cell_type": "raw",
   "metadata": {
    "hidden": true,
    "slideshow": {
     "slide_type": "skip"
    }
   },
   "source": [
    "from IPython.html.services.config import ConfigManager\n",
    "from IPython.utils.path import locate_profile\n",
    "cm = ConfigManager(profile_dir=locate_profile(get_ipython().profile))\n",
    "cm.update('livereveal', {\n",
    "              'width': 1024,\n",
    "              'height': 200,\n",
    "              'theme': 'dark',\n",
    "              'transition': 'zoom',\n",
    "              'start_slideshow_at': 'selected',\n",
    "});"
   ]
  },
  {
   "cell_type": "raw",
   "metadata": {
    "hidden": true,
    "slideshow": {
     "slide_type": "skip"
    }
   },
   "source": [
    "%%HTML\n",
    "<style>\n",
    ".CodeMirror {width: 100vw;}\n",
    ".container {width: 99% !important;}\n",
    ".rendered_html {font-size:0.8em;}\n",
    ".rendered_html table, .rendered_html th, .rendered_html tr, .rendered_html td {font-size: 100%;}\n",
    ".rise-enabled .rendered_html table.dataframe {font-size: 16px;}\n",
    "</style>"
   ]
  },
  {
   "cell_type": "raw",
   "metadata": {
    "hidden": true,
    "slideshow": {
     "slide_type": "skip"
    }
   },
   "source": [
    "%%html\n",
    "<iframe src=\"http://127.0.0.1:8000/myapp\" width=\"800\" height=\"200\"></iframe>"
   ]
  },
  {
   "cell_type": "markdown",
   "metadata": {
    "slideshow": {
     "slide_type": "slide"
    }
   },
   "source": [
    "# Prérequis"
   ]
  },
  {
   "cell_type": "markdown",
   "metadata": {
    "slideshow": {
     "slide_type": "subslide"
    }
   },
   "source": [
    "## Installation\n",
    "### En ligne\n",
    "* Copier le [lien Github mGolos/test](https://github.com/mGolos/test) sur [Binder](https://gke.mybinder.org/),\n",
    "composé de fichiers de [configuration](https://mybinder.readthedocs.io/en/latest/config_files.html)"
   ]
  },
  {
   "cell_type": "markdown",
   "metadata": {
    "slideshow": {
     "slide_type": "subslide"
    }
   },
   "source": [
    "### ou locale\n",
    "* Installer un environnement via [conda](https://www.anaconda.com/distribution/#download-section)  \n",
    "  Fichiers de configuration préférables &rarr; réplicabilité et reproductibilité\n",
    "    ```bash\n",
    "    conda env create -f environment.yml --name django_test\n",
    "    conda activate django_test\n",
    "    jupyter contrib nbextension install --user\n",
    "    jupyter notebook\n",
    "    ```"
   ]
  },
  {
   "cell_type": "markdown",
   "metadata": {
    "slideshow": {
     "slide_type": "subslide"
    }
   },
   "source": [
    "## Librairies\n",
    "* Fonctions personnelles et locales dans [`functions.py`](/edit/functions.py)\n",
    "* Librairies pour la visualisation des pages HTML"
   ]
  },
  {
   "cell_type": "code",
   "execution_count": 3,
   "metadata": {
    "slideshow": {
     "slide_type": "-"
    }
   },
   "outputs": [],
   "source": [
    "import requests\n",
    "import functions as fc\n",
    "from IPython.display import display, HTML"
   ]
  },
  {
   "cell_type": "markdown",
   "metadata": {
    "slideshow": {
     "slide_type": "slide"
    }
   },
   "source": [
    "# Architecture"
   ]
  },
  {
   "cell_type": "markdown",
   "metadata": {
    "slideshow": {
     "slide_type": "subslide"
    }
   },
   "source": [
    "## Création d'un projet"
   ]
  },
  {
   "cell_type": "code",
   "execution_count": 4,
   "metadata": {
    "slideshow": {
     "slide_type": "-"
    }
   },
   "outputs": [],
   "source": [
    "!django-admin startproject myproject"
   ]
  },
  {
   "cell_type": "code",
   "execution_count": 5,
   "metadata": {
    "slideshow": {
     "slide_type": "-"
    }
   },
   "outputs": [
    {
     "data": {
      "text/markdown": [
       "[manage.py](../edit/myproject/manage.py)<br/>myproject/<br/>&ensp;&ensp;&ensp;&ensp;[settings.py](../edit/myproject\\myproject/settings.py)<br/>&ensp;&ensp;&ensp;&ensp;[urls.py](../edit/myproject\\myproject/urls.py)<br/>&ensp;&ensp;&ensp;&ensp;[wsgi.py](../edit/myproject\\myproject/wsgi.py)<br/>"
      ],
      "text/plain": [
       "<IPython.core.display.Markdown object>"
      ]
     },
     "execution_count": 5,
     "metadata": {},
     "output_type": "execute_result"
    }
   ],
   "source": [
    "fc.tree('myproject')"
   ]
  },
  {
   "cell_type": "markdown",
   "metadata": {
    "slideshow": {
     "slide_type": "subslide"
    }
   },
   "source": [
    "## Création d'une application"
   ]
  },
  {
   "cell_type": "code",
   "execution_count": 6,
   "metadata": {
    "cell_style": "center"
   },
   "outputs": [
    {
     "name": "stdout",
     "output_type": "stream",
     "text": [
      "D:\\GitHub\\test\\myproject\n",
      "D:\\GitHub\\test\n"
     ]
    }
   ],
   "source": [
    "%cd myproject\n",
    "!python manage.py startapp myapp\n",
    "%cd .."
   ]
  },
  {
   "cell_type": "markdown",
   "metadata": {},
   "source": [
    "## Fichiers"
   ]
  },
  {
   "cell_type": "code",
   "execution_count": 7,
   "metadata": {
    "cell_style": "split",
    "slideshow": {
     "slide_type": "subslide"
    }
   },
   "outputs": [
    {
     "data": {
      "text/markdown": [
       "[manage.py](../edit/myproject/manage.py)<br/>myapp/<br/>&ensp;&ensp;&ensp;&ensp;[admin.py](../edit/myproject\\myapp/admin.py)<br/>&ensp;&ensp;&ensp;&ensp;[apps.py](../edit/myproject\\myapp/apps.py)<br/>&ensp;&ensp;&ensp;&ensp;[models.py](../edit/myproject\\myapp/models.py)<br/>&ensp;&ensp;&ensp;&ensp;[tests.py](../edit/myproject\\myapp/tests.py)<br/>&ensp;&ensp;&ensp;&ensp;[views.py](../edit/myproject\\myapp/views.py)<br/>&ensp;&ensp;&ensp;&ensp;migrations/<br/>myproject/<br/>&ensp;&ensp;&ensp;&ensp;[settings.py](../edit/myproject\\myproject/settings.py)<br/>&ensp;&ensp;&ensp;&ensp;[urls.py](../edit/myproject\\myproject/urls.py)<br/>&ensp;&ensp;&ensp;&ensp;[wsgi.py](../edit/myproject\\myproject/wsgi.py)<br/>"
      ],
      "text/plain": [
       "<IPython.core.display.Markdown object>"
      ]
     },
     "execution_count": 7,
     "metadata": {},
     "output_type": "execute_result"
    }
   ],
   "source": [
    "fc.tree('myproject')"
   ]
  },
  {
   "cell_type": "markdown",
   "metadata": {
    "cell_style": "split"
   },
   "source": [
    "<center><img src=\"basic-django.png\" style=\"height:300px\"></center>"
   ]
  },
  {
   "cell_type": "markdown",
   "metadata": {
    "slideshow": {
     "slide_type": "subslide"
    }
   },
   "source": [
    "* **Ensemble**\n",
    "    * Couplage faible : Les différentes couches du système ne doivent rien « connaître » les unes des autres à moins que cela ne soit absolument nécessaire.\n",
    "    * Moins de code : les applications doivent être exemptes de code répétitif\n",
    "    * Développement rapide\n",
    "    * Don't Repeat Yourself (DRY)"
   ]
  },
  {
   "cell_type": "markdown",
   "metadata": {
    "slideshow": {
     "slide_type": "subslide"
    }
   },
   "source": [
    "* **Gabarits (templates)**  \n",
    "    * Vision : gabarit comme outil de contrôle de présentation et de logique liée à la présentation, rien de plus\n",
    "    * Prévenir la redondance : héritage de gabarit\n",
    "    * Sécurité : échappement automatique\n",
    "    * Le but n’est pas d’inventer un langage de programmation. Juste assez programmatique, comme les conditions et les boucles\n",
    "    * Postula : les gabarits sont le plus souvent écrits par les concepteurs et non par les programmeurs, et ne devraient donc pas présumer de connaissances en Python"
   ]
  },
  {
   "cell_type": "markdown",
   "metadata": {
    "slideshow": {
     "slide_type": "subslide"
    }
   },
   "source": [
    "* **Modèles (models)**\n",
    "    * Création / importation des modèles à partir d'une base de donnée existante / de diagrammes UML (dia2django)\n",
    "    * Instructions de l'API optimisées pour différents types de base de donnée, riches et expressives en aussi peu de syntaxe que possible."
   ]
  },
  {
   "cell_type": "markdown",
   "metadata": {
    "slideshow": {
     "slide_type": "subslide"
    }
   },
   "source": [
    "* **Vues (views)**\n",
    "    * Simplicité : la rédaction devrait être aussi simple que d’écrire une fonction Python.  \n",
    "    Pas besoin d’instancier une classe quand une fonction suffit"
   ]
  },
  {
   "cell_type": "markdown",
   "metadata": {
    "slideshow": {
     "slide_type": "subslide"
    }
   },
   "source": [
    "* **Urls**  \n",
    "    Les URL devraient être aussi souples que possible. Toute conception d’URL imaginable devrait être possible\n",
    "    Le système devrait rendre tout aussi facile pour un développeur de concevoir de belles URL que des vilaines."
   ]
  },
  {
   "cell_type": "markdown",
   "metadata": {
    "cell_style": "center",
    "slideshow": {
     "slide_type": "subslide"
    }
   },
   "source": [
    "<center><img src=\"myapp_models.png\" style=\"height:600px\"></center>"
   ]
  },
  {
   "cell_type": "markdown",
   "metadata": {
    "slideshow": {
     "slide_type": "slide"
    }
   },
   "source": [
    "# Configuration"
   ]
  },
  {
   "cell_type": "markdown",
   "metadata": {
    "slideshow": {
     "slide_type": "subslide"
    }
   },
   "source": [
    "## Application"
   ]
  },
  {
   "cell_type": "markdown",
   "metadata": {},
   "source": [
    "* Modification du fichier [`myapp/views.py`](../edit/myproject/myapp/views.py) :"
   ]
  },
  {
   "cell_type": "code",
   "execution_count": 8,
   "metadata": {},
   "outputs": [],
   "source": [
    "fc.create('myproject/myapp/views.py',\n",
    "'''from django.http import HttpResponse\\n\n",
    "def index(request):\n",
    "    return HttpResponse(\\\"Hello, from myapp index.\\\")''')"
   ]
  },
  {
   "cell_type": "markdown",
   "metadata": {
    "slideshow": {
     "slide_type": "subslide"
    }
   },
   "source": [
    "## Application principale"
   ]
  },
  {
   "cell_type": "markdown",
   "metadata": {},
   "source": [
    "* Ajout des applications dans le [`myproject/settings.py`](../edit/myproject/myproject/settings.py) :"
   ]
  },
  {
   "cell_type": "code",
   "execution_count": 9,
   "metadata": {},
   "outputs": [],
   "source": [
    "fc.sed(\"INSTALLED_APPS = [\", \n",
    "       \"    'myapp.apps.MyappConfig',\\n\", \n",
    "       \"myproject/myproject/settings.py\")"
   ]
  },
  {
   "cell_type": "markdown",
   "metadata": {
    "slideshow": {
     "slide_type": "subslide"
    }
   },
   "source": [
    "* Création du fichier [`myapp/urls.py`](../edit/myproject/myapp/urls.py) :"
   ]
  },
  {
   "cell_type": "code",
   "execution_count": 31,
   "metadata": {},
   "outputs": [],
   "source": [
    "fc.create('myproject/myapp/urls.py',\n",
    "'''from django.urls import path\n",
    "from myapp import views\\n\n",
    "urlpatterns = [\n",
    "    path('', views.index, name='index'),\n",
    "]''')"
   ]
  },
  {
   "cell_type": "markdown",
   "metadata": {
    "slideshow": {
     "slide_type": "subslide"
    }
   },
   "source": [
    "* Ajout des [urls](../edit/myproject/myapp/urls.py) dans le [fichier `myproject/urls.py`](../edit/myproject/myproject/urls.py) :"
   ]
  },
  {
   "cell_type": "code",
   "execution_count": 32,
   "metadata": {},
   "outputs": [],
   "source": [
    "fc.replace(\"from django.urls import path\", \n",
    "           \"from django.urls import include, path\", \n",
    "           \"myproject/myproject/urls.py\")"
   ]
  },
  {
   "cell_type": "code",
   "execution_count": 34,
   "metadata": {},
   "outputs": [],
   "source": [
    "fc.sed(\"urlpatterns = [\", \n",
    "       \"    path('myapp/', include('myapp.urls')),\\n\",\n",
    "       \"myproject/myproject/urls.py\")"
   ]
  },
  {
   "cell_type": "markdown",
   "metadata": {
    "slideshow": {
     "slide_type": "slide"
    }
   },
   "source": [
    "## Initialisation du server\n",
    "* Dans un [terminal](../terminals/runserver), exécuter `python manage.py runserver`"
   ]
  },
  {
   "cell_type": "code",
   "execution_count": 14,
   "metadata": {
    "slideshow": {
     "slide_type": "-"
    }
   },
   "outputs": [
    {
     "data": {
      "text/html": [
       "<!DOCTYPE html>\n",
       "<html lang=\"en\">\n",
       "<head>\n",
       "  <meta http-equiv=\"content-type\" content=\"text/html; charset=utf-8\">\n",
       "  <title>Page not found at /</title>\n",
       "  <meta name=\"robots\" content=\"NONE,NOARCHIVE\">\n",
       "  <style type=\"text/css\">\n",
       "    html * { padding:0; margin:0; }\n",
       "    body * { padding:10px 20px; }\n",
       "    body * * { padding:0; }\n",
       "    body { font:small sans-serif; background:#eee; color:#000; }\n",
       "    body>div { border-bottom:1px solid #ddd; }\n",
       "    h1 { font-weight:normal; margin-bottom:.4em; }\n",
       "    h1 span { font-size:60%; color:#666; font-weight:normal; }\n",
       "    table { border:none; border-collapse: collapse; width:100%; }\n",
       "    td, th { vertical-align:top; padding:2px 3px; }\n",
       "    th { width:12em; text-align:right; color:#666; padding-right:.5em; }\n",
       "    #info { background:#f6f6f6; }\n",
       "    #info ol { margin: 0.5em 4em; }\n",
       "    #info ol li { font-family: monospace; }\n",
       "    #summary { background: #ffc; }\n",
       "    #explanation { background:#eee; border-bottom: 0px none; }\n",
       "  </style>\n",
       "</head>\n",
       "<body>\n",
       "  <div id=\"summary\">\n",
       "    <h1>Page not found <span>(404)</span></h1>\n",
       "    <table class=\"meta\">\n",
       "      <tr>\n",
       "        <th>Request Method:</th>\n",
       "        <td>GET</td>\n",
       "      </tr>\n",
       "      <tr>\n",
       "        <th>Request URL:</th>\n",
       "        <td>http://127.0.0.1:8000/</td>\n",
       "      </tr>\n",
       "      \n",
       "    </table>\n",
       "  </div>\n",
       "  <div id=\"info\">\n",
       "    \n",
       "      <p>\n",
       "      Using the URLconf defined in <code>myproject.urls</code>,\n",
       "      Django tried these URL patterns, in this order:\n",
       "      </p>\n",
       "      <ol>\n",
       "        \n",
       "          <li>\n",
       "            \n",
       "                myapp/\n",
       "                \n",
       "            \n",
       "          </li>\n",
       "        \n",
       "          <li>\n",
       "            \n",
       "                admin/\n",
       "                \n",
       "            \n",
       "          </li>\n",
       "        \n",
       "      </ol>\n",
       "      <p>\n",
       "        \n",
       "        The empty path didn't match any of these.\n",
       "      </p>\n",
       "    \n",
       "  </div>\n",
       "\n",
       "  <div id=\"explanation\">\n",
       "    <p>\n",
       "      You're seeing this error because you have <code>DEBUG = True</code> in\n",
       "      your Django settings file. Change that to <code>False</code>, and Django\n",
       "      will display a standard 404 page.\n",
       "    </p>\n",
       "  </div>\n",
       "</body>\n",
       "</html>\n"
      ],
      "text/plain": [
       "<IPython.core.display.HTML object>"
      ]
     },
     "metadata": {},
     "output_type": "display_data"
    }
   ],
   "source": [
    "content = requests.get('http://127.0.0.1:8000').text; display(HTML(content))"
   ]
  },
  {
   "cell_type": "code",
   "execution_count": 15,
   "metadata": {
    "slideshow": {
     "slide_type": "subslide"
    }
   },
   "outputs": [
    {
     "data": {
      "text/html": [
       "Hello, from myapp index."
      ],
      "text/plain": [
       "<IPython.core.display.HTML object>"
      ]
     },
     "metadata": {},
     "output_type": "display_data"
    }
   ],
   "source": [
    "content = requests.get('http://127.0.0.1:8000/myapp').text; display(HTML(content))"
   ]
  },
  {
   "cell_type": "markdown",
   "metadata": {
    "slideshow": {
     "slide_type": "subslide"
    }
   },
   "source": [
    "## Vues"
   ]
  },
  {
   "cell_type": "markdown",
   "metadata": {
    "slideshow": {
     "slide_type": "subslide"
    }
   },
   "source": [
    "* Modification simple de la vue [`myapp/views.py`](../edit/myproject/myapp/views.py) :"
   ]
  },
  {
   "cell_type": "code",
   "execution_count": 16,
   "metadata": {},
   "outputs": [],
   "source": [
    "fc.replace(\"Hello, from myapp index.\", \n",
    "           \"Bonjour depuis l'index de myapp.\", \n",
    "           \"myproject/myapp/views.py\")"
   ]
  },
  {
   "cell_type": "code",
   "execution_count": 18,
   "metadata": {
    "slideshow": {
     "slide_type": "-"
    }
   },
   "outputs": [
    {
     "data": {
      "text/html": [
       "Bonjour depuis l'index de myapp."
      ],
      "text/plain": [
       "<IPython.core.display.HTML object>"
      ]
     },
     "metadata": {},
     "output_type": "display_data"
    }
   ],
   "source": [
    "content = requests.get('http://127.0.0.1:8000/myapp').text; display(HTML(content))"
   ]
  },
  {
   "cell_type": "markdown",
   "metadata": {
    "slideshow": {
     "slide_type": "subslide"
    }
   },
   "source": [
    "## Gabarits"
   ]
  },
  {
   "cell_type": "markdown",
   "metadata": {
    "slideshow": {
     "slide_type": "-"
    }
   },
   "source": [
    "* Création de [`myapp/templates/myapp/layout.html`](../edit/myproject/myapp/templates/myapp/layout.html)"
   ]
  },
  {
   "cell_type": "code",
   "execution_count": 19,
   "metadata": {},
   "outputs": [],
   "source": [
    "mkdir \"myproject/myapp/templates\", \"myproject/myapp/templates/myapp\""
   ]
  },
  {
   "cell_type": "code",
   "execution_count": 20,
   "metadata": {},
   "outputs": [],
   "source": [
    "fc.create('myproject/myapp/templates/myapp/layout.html',\n",
    "'''{% block header %}\n",
    "    <h1>Début du Layout</h1>{% endblock header %} \\n\n",
    "{% block content %}\n",
    "    contenu{% endblock content %} \\n\n",
    "{% block footer %}\n",
    "    <h1>...</h1>{% endblock footer %}''')"
   ]
  },
  {
   "cell_type": "markdown",
   "metadata": {
    "slideshow": {
     "slide_type": "-"
    }
   },
   "source": [
    "* Création de [`myapp/templates/myapp/home.html`](../edit/myproject/myapp/templates/myapp/home.html)"
   ]
  },
  {
   "cell_type": "code",
   "execution_count": 21,
   "metadata": {},
   "outputs": [],
   "source": [
    "fc.create('myproject/myapp/templates/myapp/home.html',\n",
    "'''{% extends \"myapp/layout.html\" %}\n",
    "{% block content %}Hello from Home{% endblock content %}''')"
   ]
  },
  {
   "cell_type": "markdown",
   "metadata": {
    "slideshow": {
     "slide_type": "subslide"
    }
   },
   "source": [
    "* Modification des vues [`myapp/views.py`](../edit/myproject/myapp/views.py)"
   ]
  },
  {
   "cell_type": "code",
   "execution_count": 22,
   "metadata": {},
   "outputs": [],
   "source": [
    "fc.create('myproject/myapp/views.py',\n",
    "'''from django.views.generic import TemplateView\\n\n",
    "class index(TemplateView):\n",
    "    template_name = 'myapp/home.html' ''')"
   ]
  },
  {
   "cell_type": "markdown",
   "metadata": {
    "slideshow": {
     "slide_type": "-"
    }
   },
   "source": [
    "* Modification de l'url [`myapp/urls.py`](../edit/myproject/myapp/urls.py)"
   ]
  },
  {
   "cell_type": "code",
   "execution_count": 35,
   "metadata": {},
   "outputs": [],
   "source": [
    "fc.replace(\"views.index\", \n",
    "           \"views.index.as_view()\", \n",
    "           \"myproject/myapp/urls.py\")"
   ]
  },
  {
   "cell_type": "code",
   "execution_count": 30,
   "metadata": {
    "scrolled": true,
    "slideshow": {
     "slide_type": "subslide"
    }
   },
   "outputs": [
    {
     "ename": "ConnectionError",
     "evalue": "HTTPConnectionPool(host='127.0.0.1', port=8000): Max retries exceeded with url: /myapp (Caused by NewConnectionError('<urllib3.connection.HTTPConnection object at 0x0000013C0F02F808>: Failed to establish a new connection: [WinError 10061] Aucune connexion n’a pu être établie car l’ordinateur cible l’a expressément refusée'))",
     "output_type": "error",
     "traceback": [
      "\u001b[1;31m---------------------------------------------------------------------------\u001b[0m",
      "\u001b[1;31mConnectionRefusedError\u001b[0m                    Traceback (most recent call last)",
      "\u001b[1;32m~\\Anaconda3\\envs\\django_test\\lib\\site-packages\\urllib3\\connection.py\u001b[0m in \u001b[0;36m_new_conn\u001b[1;34m(self)\u001b[0m\n\u001b[0;32m    158\u001b[0m             conn = connection.create_connection(\n\u001b[1;32m--> 159\u001b[1;33m                 (self._dns_host, self.port), self.timeout, **extra_kw)\n\u001b[0m\u001b[0;32m    160\u001b[0m \u001b[1;33m\u001b[0m\u001b[0m\n",
      "\u001b[1;32m~\\Anaconda3\\envs\\django_test\\lib\\site-packages\\urllib3\\util\\connection.py\u001b[0m in \u001b[0;36mcreate_connection\u001b[1;34m(address, timeout, source_address, socket_options)\u001b[0m\n\u001b[0;32m     79\u001b[0m     \u001b[1;32mif\u001b[0m \u001b[0merr\u001b[0m \u001b[1;32mis\u001b[0m \u001b[1;32mnot\u001b[0m \u001b[1;32mNone\u001b[0m\u001b[1;33m:\u001b[0m\u001b[1;33m\u001b[0m\u001b[1;33m\u001b[0m\u001b[0m\n\u001b[1;32m---> 80\u001b[1;33m         \u001b[1;32mraise\u001b[0m \u001b[0merr\u001b[0m\u001b[1;33m\u001b[0m\u001b[1;33m\u001b[0m\u001b[0m\n\u001b[0m\u001b[0;32m     81\u001b[0m \u001b[1;33m\u001b[0m\u001b[0m\n",
      "\u001b[1;32m~\\Anaconda3\\envs\\django_test\\lib\\site-packages\\urllib3\\util\\connection.py\u001b[0m in \u001b[0;36mcreate_connection\u001b[1;34m(address, timeout, source_address, socket_options)\u001b[0m\n\u001b[0;32m     69\u001b[0m                 \u001b[0msock\u001b[0m\u001b[1;33m.\u001b[0m\u001b[0mbind\u001b[0m\u001b[1;33m(\u001b[0m\u001b[0msource_address\u001b[0m\u001b[1;33m)\u001b[0m\u001b[1;33m\u001b[0m\u001b[1;33m\u001b[0m\u001b[0m\n\u001b[1;32m---> 70\u001b[1;33m             \u001b[0msock\u001b[0m\u001b[1;33m.\u001b[0m\u001b[0mconnect\u001b[0m\u001b[1;33m(\u001b[0m\u001b[0msa\u001b[0m\u001b[1;33m)\u001b[0m\u001b[1;33m\u001b[0m\u001b[1;33m\u001b[0m\u001b[0m\n\u001b[0m\u001b[0;32m     71\u001b[0m             \u001b[1;32mreturn\u001b[0m \u001b[0msock\u001b[0m\u001b[1;33m\u001b[0m\u001b[1;33m\u001b[0m\u001b[0m\n",
      "\u001b[1;31mConnectionRefusedError\u001b[0m: [WinError 10061] Aucune connexion n’a pu être établie car l’ordinateur cible l’a expressément refusée",
      "\nDuring handling of the above exception, another exception occurred:\n",
      "\u001b[1;31mNewConnectionError\u001b[0m                        Traceback (most recent call last)",
      "\u001b[1;32m~\\Anaconda3\\envs\\django_test\\lib\\site-packages\\urllib3\\connectionpool.py\u001b[0m in \u001b[0;36murlopen\u001b[1;34m(self, method, url, body, headers, retries, redirect, assert_same_host, timeout, pool_timeout, release_conn, chunked, body_pos, **response_kw)\u001b[0m\n\u001b[0;32m    599\u001b[0m                                                   \u001b[0mbody\u001b[0m\u001b[1;33m=\u001b[0m\u001b[0mbody\u001b[0m\u001b[1;33m,\u001b[0m \u001b[0mheaders\u001b[0m\u001b[1;33m=\u001b[0m\u001b[0mheaders\u001b[0m\u001b[1;33m,\u001b[0m\u001b[1;33m\u001b[0m\u001b[1;33m\u001b[0m\u001b[0m\n\u001b[1;32m--> 600\u001b[1;33m                                                   chunked=chunked)\n\u001b[0m\u001b[0;32m    601\u001b[0m \u001b[1;33m\u001b[0m\u001b[0m\n",
      "\u001b[1;32m~\\Anaconda3\\envs\\django_test\\lib\\site-packages\\urllib3\\connectionpool.py\u001b[0m in \u001b[0;36m_make_request\u001b[1;34m(self, conn, method, url, timeout, chunked, **httplib_request_kw)\u001b[0m\n\u001b[0;32m    353\u001b[0m         \u001b[1;32melse\u001b[0m\u001b[1;33m:\u001b[0m\u001b[1;33m\u001b[0m\u001b[1;33m\u001b[0m\u001b[0m\n\u001b[1;32m--> 354\u001b[1;33m             \u001b[0mconn\u001b[0m\u001b[1;33m.\u001b[0m\u001b[0mrequest\u001b[0m\u001b[1;33m(\u001b[0m\u001b[0mmethod\u001b[0m\u001b[1;33m,\u001b[0m \u001b[0murl\u001b[0m\u001b[1;33m,\u001b[0m \u001b[1;33m**\u001b[0m\u001b[0mhttplib_request_kw\u001b[0m\u001b[1;33m)\u001b[0m\u001b[1;33m\u001b[0m\u001b[1;33m\u001b[0m\u001b[0m\n\u001b[0m\u001b[0;32m    355\u001b[0m \u001b[1;33m\u001b[0m\u001b[0m\n",
      "\u001b[1;32m~\\Anaconda3\\envs\\django_test\\lib\\http\\client.py\u001b[0m in \u001b[0;36mrequest\u001b[1;34m(self, method, url, body, headers, encode_chunked)\u001b[0m\n\u001b[0;32m   1243\u001b[0m         \u001b[1;34m\"\"\"Send a complete request to the server.\"\"\"\u001b[0m\u001b[1;33m\u001b[0m\u001b[1;33m\u001b[0m\u001b[0m\n\u001b[1;32m-> 1244\u001b[1;33m         \u001b[0mself\u001b[0m\u001b[1;33m.\u001b[0m\u001b[0m_send_request\u001b[0m\u001b[1;33m(\u001b[0m\u001b[0mmethod\u001b[0m\u001b[1;33m,\u001b[0m \u001b[0murl\u001b[0m\u001b[1;33m,\u001b[0m \u001b[0mbody\u001b[0m\u001b[1;33m,\u001b[0m \u001b[0mheaders\u001b[0m\u001b[1;33m,\u001b[0m \u001b[0mencode_chunked\u001b[0m\u001b[1;33m)\u001b[0m\u001b[1;33m\u001b[0m\u001b[1;33m\u001b[0m\u001b[0m\n\u001b[0m\u001b[0;32m   1245\u001b[0m \u001b[1;33m\u001b[0m\u001b[0m\n",
      "\u001b[1;32m~\\Anaconda3\\envs\\django_test\\lib\\http\\client.py\u001b[0m in \u001b[0;36m_send_request\u001b[1;34m(self, method, url, body, headers, encode_chunked)\u001b[0m\n\u001b[0;32m   1289\u001b[0m             \u001b[0mbody\u001b[0m \u001b[1;33m=\u001b[0m \u001b[0m_encode\u001b[0m\u001b[1;33m(\u001b[0m\u001b[0mbody\u001b[0m\u001b[1;33m,\u001b[0m \u001b[1;34m'body'\u001b[0m\u001b[1;33m)\u001b[0m\u001b[1;33m\u001b[0m\u001b[1;33m\u001b[0m\u001b[0m\n\u001b[1;32m-> 1290\u001b[1;33m         \u001b[0mself\u001b[0m\u001b[1;33m.\u001b[0m\u001b[0mendheaders\u001b[0m\u001b[1;33m(\u001b[0m\u001b[0mbody\u001b[0m\u001b[1;33m,\u001b[0m \u001b[0mencode_chunked\u001b[0m\u001b[1;33m=\u001b[0m\u001b[0mencode_chunked\u001b[0m\u001b[1;33m)\u001b[0m\u001b[1;33m\u001b[0m\u001b[1;33m\u001b[0m\u001b[0m\n\u001b[0m\u001b[0;32m   1291\u001b[0m \u001b[1;33m\u001b[0m\u001b[0m\n",
      "\u001b[1;32m~\\Anaconda3\\envs\\django_test\\lib\\http\\client.py\u001b[0m in \u001b[0;36mendheaders\u001b[1;34m(self, message_body, encode_chunked)\u001b[0m\n\u001b[0;32m   1238\u001b[0m             \u001b[1;32mraise\u001b[0m \u001b[0mCannotSendHeader\u001b[0m\u001b[1;33m(\u001b[0m\u001b[1;33m)\u001b[0m\u001b[1;33m\u001b[0m\u001b[1;33m\u001b[0m\u001b[0m\n\u001b[1;32m-> 1239\u001b[1;33m         \u001b[0mself\u001b[0m\u001b[1;33m.\u001b[0m\u001b[0m_send_output\u001b[0m\u001b[1;33m(\u001b[0m\u001b[0mmessage_body\u001b[0m\u001b[1;33m,\u001b[0m \u001b[0mencode_chunked\u001b[0m\u001b[1;33m=\u001b[0m\u001b[0mencode_chunked\u001b[0m\u001b[1;33m)\u001b[0m\u001b[1;33m\u001b[0m\u001b[1;33m\u001b[0m\u001b[0m\n\u001b[0m\u001b[0;32m   1240\u001b[0m \u001b[1;33m\u001b[0m\u001b[0m\n",
      "\u001b[1;32m~\\Anaconda3\\envs\\django_test\\lib\\http\\client.py\u001b[0m in \u001b[0;36m_send_output\u001b[1;34m(self, message_body, encode_chunked)\u001b[0m\n\u001b[0;32m   1025\u001b[0m         \u001b[1;32mdel\u001b[0m \u001b[0mself\u001b[0m\u001b[1;33m.\u001b[0m\u001b[0m_buffer\u001b[0m\u001b[1;33m[\u001b[0m\u001b[1;33m:\u001b[0m\u001b[1;33m]\u001b[0m\u001b[1;33m\u001b[0m\u001b[1;33m\u001b[0m\u001b[0m\n\u001b[1;32m-> 1026\u001b[1;33m         \u001b[0mself\u001b[0m\u001b[1;33m.\u001b[0m\u001b[0msend\u001b[0m\u001b[1;33m(\u001b[0m\u001b[0mmsg\u001b[0m\u001b[1;33m)\u001b[0m\u001b[1;33m\u001b[0m\u001b[1;33m\u001b[0m\u001b[0m\n\u001b[0m\u001b[0;32m   1027\u001b[0m \u001b[1;33m\u001b[0m\u001b[0m\n",
      "\u001b[1;32m~\\Anaconda3\\envs\\django_test\\lib\\http\\client.py\u001b[0m in \u001b[0;36msend\u001b[1;34m(self, data)\u001b[0m\n\u001b[0;32m    965\u001b[0m             \u001b[1;32mif\u001b[0m \u001b[0mself\u001b[0m\u001b[1;33m.\u001b[0m\u001b[0mauto_open\u001b[0m\u001b[1;33m:\u001b[0m\u001b[1;33m\u001b[0m\u001b[1;33m\u001b[0m\u001b[0m\n\u001b[1;32m--> 966\u001b[1;33m                 \u001b[0mself\u001b[0m\u001b[1;33m.\u001b[0m\u001b[0mconnect\u001b[0m\u001b[1;33m(\u001b[0m\u001b[1;33m)\u001b[0m\u001b[1;33m\u001b[0m\u001b[1;33m\u001b[0m\u001b[0m\n\u001b[0m\u001b[0;32m    967\u001b[0m             \u001b[1;32melse\u001b[0m\u001b[1;33m:\u001b[0m\u001b[1;33m\u001b[0m\u001b[1;33m\u001b[0m\u001b[0m\n",
      "\u001b[1;32m~\\Anaconda3\\envs\\django_test\\lib\\site-packages\\urllib3\\connection.py\u001b[0m in \u001b[0;36mconnect\u001b[1;34m(self)\u001b[0m\n\u001b[0;32m    180\u001b[0m     \u001b[1;32mdef\u001b[0m \u001b[0mconnect\u001b[0m\u001b[1;33m(\u001b[0m\u001b[0mself\u001b[0m\u001b[1;33m)\u001b[0m\u001b[1;33m:\u001b[0m\u001b[1;33m\u001b[0m\u001b[1;33m\u001b[0m\u001b[0m\n\u001b[1;32m--> 181\u001b[1;33m         \u001b[0mconn\u001b[0m \u001b[1;33m=\u001b[0m \u001b[0mself\u001b[0m\u001b[1;33m.\u001b[0m\u001b[0m_new_conn\u001b[0m\u001b[1;33m(\u001b[0m\u001b[1;33m)\u001b[0m\u001b[1;33m\u001b[0m\u001b[1;33m\u001b[0m\u001b[0m\n\u001b[0m\u001b[0;32m    182\u001b[0m         \u001b[0mself\u001b[0m\u001b[1;33m.\u001b[0m\u001b[0m_prepare_conn\u001b[0m\u001b[1;33m(\u001b[0m\u001b[0mconn\u001b[0m\u001b[1;33m)\u001b[0m\u001b[1;33m\u001b[0m\u001b[1;33m\u001b[0m\u001b[0m\n",
      "\u001b[1;32m~\\Anaconda3\\envs\\django_test\\lib\\site-packages\\urllib3\\connection.py\u001b[0m in \u001b[0;36m_new_conn\u001b[1;34m(self)\u001b[0m\n\u001b[0;32m    167\u001b[0m             raise NewConnectionError(\n\u001b[1;32m--> 168\u001b[1;33m                 self, \"Failed to establish a new connection: %s\" % e)\n\u001b[0m\u001b[0;32m    169\u001b[0m \u001b[1;33m\u001b[0m\u001b[0m\n",
      "\u001b[1;31mNewConnectionError\u001b[0m: <urllib3.connection.HTTPConnection object at 0x0000013C0F02F808>: Failed to establish a new connection: [WinError 10061] Aucune connexion n’a pu être établie car l’ordinateur cible l’a expressément refusée",
      "\nDuring handling of the above exception, another exception occurred:\n",
      "\u001b[1;31mMaxRetryError\u001b[0m                             Traceback (most recent call last)",
      "\u001b[1;32m~\\Anaconda3\\envs\\django_test\\lib\\site-packages\\requests\\adapters.py\u001b[0m in \u001b[0;36msend\u001b[1;34m(self, request, stream, timeout, verify, cert, proxies)\u001b[0m\n\u001b[0;32m    448\u001b[0m                     \u001b[0mretries\u001b[0m\u001b[1;33m=\u001b[0m\u001b[0mself\u001b[0m\u001b[1;33m.\u001b[0m\u001b[0mmax_retries\u001b[0m\u001b[1;33m,\u001b[0m\u001b[1;33m\u001b[0m\u001b[1;33m\u001b[0m\u001b[0m\n\u001b[1;32m--> 449\u001b[1;33m                     \u001b[0mtimeout\u001b[0m\u001b[1;33m=\u001b[0m\u001b[0mtimeout\u001b[0m\u001b[1;33m\u001b[0m\u001b[1;33m\u001b[0m\u001b[0m\n\u001b[0m\u001b[0;32m    450\u001b[0m                 )\n",
      "\u001b[1;32m~\\Anaconda3\\envs\\django_test\\lib\\site-packages\\urllib3\\connectionpool.py\u001b[0m in \u001b[0;36murlopen\u001b[1;34m(self, method, url, body, headers, retries, redirect, assert_same_host, timeout, pool_timeout, release_conn, chunked, body_pos, **response_kw)\u001b[0m\n\u001b[0;32m    637\u001b[0m             retries = retries.increment(method, url, error=e, _pool=self,\n\u001b[1;32m--> 638\u001b[1;33m                                         _stacktrace=sys.exc_info()[2])\n\u001b[0m\u001b[0;32m    639\u001b[0m             \u001b[0mretries\u001b[0m\u001b[1;33m.\u001b[0m\u001b[0msleep\u001b[0m\u001b[1;33m(\u001b[0m\u001b[1;33m)\u001b[0m\u001b[1;33m\u001b[0m\u001b[1;33m\u001b[0m\u001b[0m\n",
      "\u001b[1;32m~\\Anaconda3\\envs\\django_test\\lib\\site-packages\\urllib3\\util\\retry.py\u001b[0m in \u001b[0;36mincrement\u001b[1;34m(self, method, url, response, error, _pool, _stacktrace)\u001b[0m\n\u001b[0;32m    398\u001b[0m         \u001b[1;32mif\u001b[0m \u001b[0mnew_retry\u001b[0m\u001b[1;33m.\u001b[0m\u001b[0mis_exhausted\u001b[0m\u001b[1;33m(\u001b[0m\u001b[1;33m)\u001b[0m\u001b[1;33m:\u001b[0m\u001b[1;33m\u001b[0m\u001b[1;33m\u001b[0m\u001b[0m\n\u001b[1;32m--> 399\u001b[1;33m             \u001b[1;32mraise\u001b[0m \u001b[0mMaxRetryError\u001b[0m\u001b[1;33m(\u001b[0m\u001b[0m_pool\u001b[0m\u001b[1;33m,\u001b[0m \u001b[0murl\u001b[0m\u001b[1;33m,\u001b[0m \u001b[0merror\u001b[0m \u001b[1;32mor\u001b[0m \u001b[0mResponseError\u001b[0m\u001b[1;33m(\u001b[0m\u001b[0mcause\u001b[0m\u001b[1;33m)\u001b[0m\u001b[1;33m)\u001b[0m\u001b[1;33m\u001b[0m\u001b[1;33m\u001b[0m\u001b[0m\n\u001b[0m\u001b[0;32m    400\u001b[0m \u001b[1;33m\u001b[0m\u001b[0m\n",
      "\u001b[1;31mMaxRetryError\u001b[0m: HTTPConnectionPool(host='127.0.0.1', port=8000): Max retries exceeded with url: /myapp (Caused by NewConnectionError('<urllib3.connection.HTTPConnection object at 0x0000013C0F02F808>: Failed to establish a new connection: [WinError 10061] Aucune connexion n’a pu être établie car l’ordinateur cible l’a expressément refusée'))",
      "\nDuring handling of the above exception, another exception occurred:\n",
      "\u001b[1;31mConnectionError\u001b[0m                           Traceback (most recent call last)",
      "\u001b[1;32m<ipython-input-30-8cbc6b8c033e>\u001b[0m in \u001b[0;36m<module>\u001b[1;34m\u001b[0m\n\u001b[1;32m----> 1\u001b[1;33m \u001b[0mcontent\u001b[0m \u001b[1;33m=\u001b[0m \u001b[0mrequests\u001b[0m\u001b[1;33m.\u001b[0m\u001b[0mget\u001b[0m\u001b[1;33m(\u001b[0m\u001b[1;34m'http://127.0.0.1:8000/myapp'\u001b[0m\u001b[1;33m)\u001b[0m\u001b[1;33m.\u001b[0m\u001b[0mtext\u001b[0m\u001b[1;33m;\u001b[0m \u001b[0mdisplay\u001b[0m\u001b[1;33m(\u001b[0m\u001b[0mHTML\u001b[0m\u001b[1;33m(\u001b[0m\u001b[0mcontent\u001b[0m\u001b[1;33m)\u001b[0m\u001b[1;33m)\u001b[0m\u001b[1;33m\u001b[0m\u001b[1;33m\u001b[0m\u001b[0m\n\u001b[0m",
      "\u001b[1;32m~\\Anaconda3\\envs\\django_test\\lib\\site-packages\\requests\\api.py\u001b[0m in \u001b[0;36mget\u001b[1;34m(url, params, **kwargs)\u001b[0m\n\u001b[0;32m     73\u001b[0m \u001b[1;33m\u001b[0m\u001b[0m\n\u001b[0;32m     74\u001b[0m     \u001b[0mkwargs\u001b[0m\u001b[1;33m.\u001b[0m\u001b[0msetdefault\u001b[0m\u001b[1;33m(\u001b[0m\u001b[1;34m'allow_redirects'\u001b[0m\u001b[1;33m,\u001b[0m \u001b[1;32mTrue\u001b[0m\u001b[1;33m)\u001b[0m\u001b[1;33m\u001b[0m\u001b[1;33m\u001b[0m\u001b[0m\n\u001b[1;32m---> 75\u001b[1;33m     \u001b[1;32mreturn\u001b[0m \u001b[0mrequest\u001b[0m\u001b[1;33m(\u001b[0m\u001b[1;34m'get'\u001b[0m\u001b[1;33m,\u001b[0m \u001b[0murl\u001b[0m\u001b[1;33m,\u001b[0m \u001b[0mparams\u001b[0m\u001b[1;33m=\u001b[0m\u001b[0mparams\u001b[0m\u001b[1;33m,\u001b[0m \u001b[1;33m**\u001b[0m\u001b[0mkwargs\u001b[0m\u001b[1;33m)\u001b[0m\u001b[1;33m\u001b[0m\u001b[1;33m\u001b[0m\u001b[0m\n\u001b[0m\u001b[0;32m     76\u001b[0m \u001b[1;33m\u001b[0m\u001b[0m\n\u001b[0;32m     77\u001b[0m \u001b[1;33m\u001b[0m\u001b[0m\n",
      "\u001b[1;32m~\\Anaconda3\\envs\\django_test\\lib\\site-packages\\requests\\api.py\u001b[0m in \u001b[0;36mrequest\u001b[1;34m(method, url, **kwargs)\u001b[0m\n\u001b[0;32m     58\u001b[0m     \u001b[1;31m# cases, and look like a memory leak in others.\u001b[0m\u001b[1;33m\u001b[0m\u001b[1;33m\u001b[0m\u001b[1;33m\u001b[0m\u001b[0m\n\u001b[0;32m     59\u001b[0m     \u001b[1;32mwith\u001b[0m \u001b[0msessions\u001b[0m\u001b[1;33m.\u001b[0m\u001b[0mSession\u001b[0m\u001b[1;33m(\u001b[0m\u001b[1;33m)\u001b[0m \u001b[1;32mas\u001b[0m \u001b[0msession\u001b[0m\u001b[1;33m:\u001b[0m\u001b[1;33m\u001b[0m\u001b[1;33m\u001b[0m\u001b[0m\n\u001b[1;32m---> 60\u001b[1;33m         \u001b[1;32mreturn\u001b[0m \u001b[0msession\u001b[0m\u001b[1;33m.\u001b[0m\u001b[0mrequest\u001b[0m\u001b[1;33m(\u001b[0m\u001b[0mmethod\u001b[0m\u001b[1;33m=\u001b[0m\u001b[0mmethod\u001b[0m\u001b[1;33m,\u001b[0m \u001b[0murl\u001b[0m\u001b[1;33m=\u001b[0m\u001b[0murl\u001b[0m\u001b[1;33m,\u001b[0m \u001b[1;33m**\u001b[0m\u001b[0mkwargs\u001b[0m\u001b[1;33m)\u001b[0m\u001b[1;33m\u001b[0m\u001b[1;33m\u001b[0m\u001b[0m\n\u001b[0m\u001b[0;32m     61\u001b[0m \u001b[1;33m\u001b[0m\u001b[0m\n\u001b[0;32m     62\u001b[0m \u001b[1;33m\u001b[0m\u001b[0m\n",
      "\u001b[1;32m~\\Anaconda3\\envs\\django_test\\lib\\site-packages\\requests\\sessions.py\u001b[0m in \u001b[0;36mrequest\u001b[1;34m(self, method, url, params, data, headers, cookies, files, auth, timeout, allow_redirects, proxies, hooks, stream, verify, cert, json)\u001b[0m\n\u001b[0;32m    531\u001b[0m         }\n\u001b[0;32m    532\u001b[0m         \u001b[0msend_kwargs\u001b[0m\u001b[1;33m.\u001b[0m\u001b[0mupdate\u001b[0m\u001b[1;33m(\u001b[0m\u001b[0msettings\u001b[0m\u001b[1;33m)\u001b[0m\u001b[1;33m\u001b[0m\u001b[1;33m\u001b[0m\u001b[0m\n\u001b[1;32m--> 533\u001b[1;33m         \u001b[0mresp\u001b[0m \u001b[1;33m=\u001b[0m \u001b[0mself\u001b[0m\u001b[1;33m.\u001b[0m\u001b[0msend\u001b[0m\u001b[1;33m(\u001b[0m\u001b[0mprep\u001b[0m\u001b[1;33m,\u001b[0m \u001b[1;33m**\u001b[0m\u001b[0msend_kwargs\u001b[0m\u001b[1;33m)\u001b[0m\u001b[1;33m\u001b[0m\u001b[1;33m\u001b[0m\u001b[0m\n\u001b[0m\u001b[0;32m    534\u001b[0m \u001b[1;33m\u001b[0m\u001b[0m\n\u001b[0;32m    535\u001b[0m         \u001b[1;32mreturn\u001b[0m \u001b[0mresp\u001b[0m\u001b[1;33m\u001b[0m\u001b[1;33m\u001b[0m\u001b[0m\n",
      "\u001b[1;32m~\\Anaconda3\\envs\\django_test\\lib\\site-packages\\requests\\sessions.py\u001b[0m in \u001b[0;36msend\u001b[1;34m(self, request, **kwargs)\u001b[0m\n\u001b[0;32m    644\u001b[0m \u001b[1;33m\u001b[0m\u001b[0m\n\u001b[0;32m    645\u001b[0m         \u001b[1;31m# Send the request\u001b[0m\u001b[1;33m\u001b[0m\u001b[1;33m\u001b[0m\u001b[1;33m\u001b[0m\u001b[0m\n\u001b[1;32m--> 646\u001b[1;33m         \u001b[0mr\u001b[0m \u001b[1;33m=\u001b[0m \u001b[0madapter\u001b[0m\u001b[1;33m.\u001b[0m\u001b[0msend\u001b[0m\u001b[1;33m(\u001b[0m\u001b[0mrequest\u001b[0m\u001b[1;33m,\u001b[0m \u001b[1;33m**\u001b[0m\u001b[0mkwargs\u001b[0m\u001b[1;33m)\u001b[0m\u001b[1;33m\u001b[0m\u001b[1;33m\u001b[0m\u001b[0m\n\u001b[0m\u001b[0;32m    647\u001b[0m \u001b[1;33m\u001b[0m\u001b[0m\n\u001b[0;32m    648\u001b[0m         \u001b[1;31m# Total elapsed time of the request (approximately)\u001b[0m\u001b[1;33m\u001b[0m\u001b[1;33m\u001b[0m\u001b[1;33m\u001b[0m\u001b[0m\n",
      "\u001b[1;32m~\\Anaconda3\\envs\\django_test\\lib\\site-packages\\requests\\adapters.py\u001b[0m in \u001b[0;36msend\u001b[1;34m(self, request, stream, timeout, verify, cert, proxies)\u001b[0m\n\u001b[0;32m    514\u001b[0m                 \u001b[1;32mraise\u001b[0m \u001b[0mSSLError\u001b[0m\u001b[1;33m(\u001b[0m\u001b[0me\u001b[0m\u001b[1;33m,\u001b[0m \u001b[0mrequest\u001b[0m\u001b[1;33m=\u001b[0m\u001b[0mrequest\u001b[0m\u001b[1;33m)\u001b[0m\u001b[1;33m\u001b[0m\u001b[1;33m\u001b[0m\u001b[0m\n\u001b[0;32m    515\u001b[0m \u001b[1;33m\u001b[0m\u001b[0m\n\u001b[1;32m--> 516\u001b[1;33m             \u001b[1;32mraise\u001b[0m \u001b[0mConnectionError\u001b[0m\u001b[1;33m(\u001b[0m\u001b[0me\u001b[0m\u001b[1;33m,\u001b[0m \u001b[0mrequest\u001b[0m\u001b[1;33m=\u001b[0m\u001b[0mrequest\u001b[0m\u001b[1;33m)\u001b[0m\u001b[1;33m\u001b[0m\u001b[1;33m\u001b[0m\u001b[0m\n\u001b[0m\u001b[0;32m    517\u001b[0m \u001b[1;33m\u001b[0m\u001b[0m\n\u001b[0;32m    518\u001b[0m         \u001b[1;32mexcept\u001b[0m \u001b[0mClosedPoolError\u001b[0m \u001b[1;32mas\u001b[0m \u001b[0me\u001b[0m\u001b[1;33m:\u001b[0m\u001b[1;33m\u001b[0m\u001b[1;33m\u001b[0m\u001b[0m\n",
      "\u001b[1;31mConnectionError\u001b[0m: HTTPConnectionPool(host='127.0.0.1', port=8000): Max retries exceeded with url: /myapp (Caused by NewConnectionError('<urllib3.connection.HTTPConnection object at 0x0000013C0F02F808>: Failed to establish a new connection: [WinError 10061] Aucune connexion n’a pu être établie car l’ordinateur cible l’a expressément refusée'))"
     ]
    }
   ],
   "source": [
    "content = requests.get('http://127.0.0.1:8000/myapp').text; display(HTML(content))"
   ]
  },
  {
   "cell_type": "code",
   "execution_count": 27,
   "metadata": {
    "slideshow": {
     "slide_type": "subslide"
    }
   },
   "outputs": [
    {
     "data": {
      "text/markdown": [
       "[db.sqlite3](../edit/myproject/db.sqlite3)<br/>[manage.py](../edit/myproject/manage.py)<br/>myapp/<br/>&ensp;&ensp;&ensp;&ensp;[admin.py](../edit/myproject\\myapp/admin.py)<br/>&ensp;&ensp;&ensp;&ensp;[apps.py](../edit/myproject\\myapp/apps.py)<br/>&ensp;&ensp;&ensp;&ensp;[models.py](../edit/myproject\\myapp/models.py)<br/>&ensp;&ensp;&ensp;&ensp;[tests.py](../edit/myproject\\myapp/tests.py)<br/>&ensp;&ensp;&ensp;&ensp;[urls.py](../edit/myproject\\myapp/urls.py)<br/>&ensp;&ensp;&ensp;&ensp;[views.py](../edit/myproject\\myapp/views.py)<br/>&ensp;&ensp;&ensp;&ensp;migrations/<br/>&ensp;&ensp;&ensp;&ensp;templates/<br/>&ensp;&ensp;&ensp;&ensp;&ensp;&ensp;&ensp;&ensp;myapp/<br/>&ensp;&ensp;&ensp;&ensp;&ensp;&ensp;&ensp;&ensp;&ensp;&ensp;&ensp;&ensp;[home.html](../edit/myproject\\myapp\\templates\\myapp/home.html)<br/>&ensp;&ensp;&ensp;&ensp;&ensp;&ensp;&ensp;&ensp;&ensp;&ensp;&ensp;&ensp;[layout.html](../edit/myproject\\myapp\\templates\\myapp/layout.html)<br/>myproject/<br/>&ensp;&ensp;&ensp;&ensp;[settings.py](../edit/myproject\\myproject/settings.py)<br/>&ensp;&ensp;&ensp;&ensp;[urls.py](../edit/myproject\\myproject/urls.py)<br/>&ensp;&ensp;&ensp;&ensp;[wsgi.py](../edit/myproject\\myproject/wsgi.py)<br/>"
      ],
      "text/plain": [
       "<IPython.core.display.Markdown object>"
      ]
     },
     "execution_count": 27,
     "metadata": {},
     "output_type": "execute_result"
    }
   ],
   "source": [
    "fc.tree('myproject')"
   ]
  },
  {
   "cell_type": "markdown",
   "metadata": {},
   "source": [
    "# Pythonification"
   ]
  },
  {
   "cell_type": "markdown",
   "metadata": {
    "slideshow": {
     "slide_type": "subslide"
    }
   },
   "source": [
    "## Formulaires"
   ]
  },
  {
   "cell_type": "markdown",
   "metadata": {
    "variables": {
     " <span class=\"cm-variable\">form</span> ": "<p><strong>SyntaxError</strong>: invalid syntax (<ipython-input-26-5e4d9fc9d90a>, line 1)</p>\n"
    }
   },
   "source": [
    "* Intérêt :\n",
    "    * html simple :\n",
    "        ```html\n",
    "        <label for=\"your_name\">Your name: </label>\n",
    "        <input id=\"your_name\" type=\"text\" name=\"your_name\" value=\"{ { current_name }}\">\n",
    "        ```\n",
    "    * html + méthodes python :\n",
    "        ```python\n",
    "        {% csrf_token %}\n",
    "        {{ form }}\n",
    "        ```"
   ]
  },
  {
   "cell_type": "markdown",
   "metadata": {
    "slideshow": {
     "slide_type": "subslide"
    }
   },
   "source": [
    "* Création d'une forme [`myapp/forms.py`](../edit/myproject/myapp/forms.py)"
   ]
  },
  {
   "cell_type": "code",
   "execution_count": 28,
   "metadata": {},
   "outputs": [],
   "source": [
    "fc.create('myproject/myapp/forms.py',\n",
    "'''from django import forms \\n\n",
    "class SimpleForm(forms.Form):\n",
    "    subject = forms.CharField(\n",
    "        label='Le sujet de votre message ',\n",
    "        max_length=100,\n",
    "        required=True) \\n\n",
    "    message = forms.CharField(\n",
    "        widget=forms.Textarea(attrs={\"class\":\"form-control\"}),\n",
    "        label='Votre message ',\n",
    "        max_length=1000,\n",
    "        required=True)''')"
   ]
  },
  {
   "cell_type": "markdown",
   "metadata": {
    "slideshow": {
     "slide_type": "subslide"
    }
   },
   "source": [
    "* Modification des vues [`myapp/views.py`](../edit/myproject/myapp/views.py)"
   ]
  },
  {
   "cell_type": "code",
   "execution_count": 29,
   "metadata": {},
   "outputs": [],
   "source": [
    "fc.create('myproject/myapp/views.py',\n",
    "'''from django.http import HttpResponseRedirect\n",
    "from django.shortcuts import render\n",
    "from myapp import forms\n",
    "\n",
    "def get_name(request):\n",
    "    if request.method == 'POST':                 \n",
    "        form = forms.SimpleForm(request.POST) \\n        \n",
    "        if form.is_valid():                       \n",
    "            return HttpResponseRedirect('thanks')\n",
    "\n",
    "    else:\n",
    "        form = forms.SimpleForm()                         \n",
    "\n",
    "    return render(request, 'myapp/name.html', {'form': form})''')"
   ]
  },
  {
   "cell_type": "markdown",
   "metadata": {
    "slideshow": {
     "slide_type": "subslide"
    }
   },
   "source": [
    "* Création de [`myapp/templates/myapp/name.html`](../edit/myproject/myapp/templates/myapp/name.html)"
   ]
  },
  {
   "cell_type": "code",
   "execution_count": 46,
   "metadata": {},
   "outputs": [],
   "source": [
    "fc.create('myproject/myapp/templates/myapp/home.html',\n",
    "'''{% extends \"myapp/layout.html\" %}\n",
    "{% block content %}\n",
    "    <form action=\"/myapp/\" method=\"post\">\n",
    "        {% csrf_token %}\n",
    "        {{ form }}\n",
    "        <input type=\"submit\" value=\"Submit\">\n",
    "    </form>\n",
    "{% endblock content %}''')"
   ]
  },
  {
   "cell_type": "markdown",
   "metadata": {
    "slideshow": {
     "slide_type": "-"
    }
   },
   "source": [
    "* Modification de l'url [`myapp/urls.py`](../edit/myproject/myapp/urls.py)"
   ]
  },
  {
   "cell_type": "code",
   "execution_count": 17,
   "metadata": {},
   "outputs": [],
   "source": [
    "fc.create('myproject/myapp/urls.py',\n",
    "'''from django.urls import path\n",
    "from django.http import HttpResponse\n",
    "from myapp import views \\n\n",
    "urlpatterns = [\n",
    "    path('', views.get_name, name='index'),\n",
    "    path('thanks', lambda request: HttpResponse(\"Thanks\"), name='thanks'),\n",
    "]''')"
   ]
  },
  {
   "cell_type": "code",
   "execution_count": 51,
   "metadata": {
    "slideshow": {
     "slide_type": "-"
    }
   },
   "outputs": [
    {
     "data": {
      "text/html": [
       "<h1>Bonjour du Layout</h1>\n",
       "\n",
       "    <form action=\"/myapp/\" method=\"post\">\n",
       "        <input type=\"hidden\" name=\"csrfmiddlewaretoken\" value=\"i64sQeyGBjqzmxuChghN1ImzDEzs9RnEktRKJaqQf6U7ZeREblXvGXjIwRSmTOx6\">\n",
       "        <tr><th><label for=\"id_name\">Votre nom :</label></th><td><input type=\"text\" name=\"name\" maxlength=\"100\" class=\"form-control\" required id=\"id_name\"></td></tr>\n",
       "<tr><th><label for=\"id_emailFrom\">Votre adresse email :</label></th><td><input type=\"email\" name=\"emailFrom\" class=\"form-control\" required id=\"id_emailFrom\"></td></tr>\n",
       "<tr><th><label for=\"id_subject\">Le sujet de votre message :</label></th><td><input type=\"text\" name=\"subject\" maxlength=\"100\" class=\"form-control\" required id=\"id_subject\"></td></tr>\n",
       "<tr><th><label for=\"id_message\">Votre message :</label></th><td><textarea name=\"message\" cols=\"40\" rows=\"10\" maxlength=\"1000\" class=\"form-control\" required id=\"id_message\">\n",
       "</textarea></td></tr>\n",
       "<tr><th><label for=\"id_part\">Votre message :</label></th><td><textarea name=\"part\" cols=\"40\" rows=\"10\" maxlength=\"1000\" class=\"form-control\" required id=\"id_part\">\n",
       "</textarea></td></tr>\n",
       "        <input type=\"submit\" value=\"Submit\">\n",
       "    </form>\n",
       "\n",
       "<footer>A bientôt</footer>"
      ],
      "text/plain": [
       "<IPython.core.display.HTML object>"
      ]
     },
     "metadata": {},
     "output_type": "display_data"
    }
   ],
   "source": [
    "content = requests.get('http://127.0.0.1:8000/myapp').text; display(HTML(content))"
   ]
  },
  {
   "cell_type": "code",
   "execution_count": 6,
   "metadata": {
    "slideshow": {
     "slide_type": "-"
    }
   },
   "outputs": [
    {
     "data": {
      "text/html": [
       "Thanks"
      ],
      "text/plain": [
       "<IPython.core.display.HTML object>"
      ]
     },
     "metadata": {},
     "output_type": "display_data"
    }
   ],
   "source": [
    "content = requests.get('http://127.0.0.1:8000/myapp/thanks').text; display(HTML(content))"
   ]
  },
  {
   "cell_type": "markdown",
   "metadata": {},
   "source": [
    "## Formulé différemment"
   ]
  },
  {
   "cell_type": "markdown",
   "metadata": {
    "cell_style": "center",
    "slideshow": {
     "slide_type": "subslide"
    }
   },
   "source": [
    "* Création d'une forme [`myapp/forms.py`](../edit/myproject/myapp/forms.py)"
   ]
  },
  {
   "cell_type": "code",
   "execution_count": 7,
   "metadata": {
    "cell_style": "center"
   },
   "outputs": [],
   "source": [
    "fc.create('myproject/myapp/forms.py',\n",
    "'''from django import forms \\n\n",
    "class SimpleForm(forms.Form):\n",
    "    word = forms.CharField(label='Word', max_length=100, required=True)''')"
   ]
  },
  {
   "cell_type": "markdown",
   "metadata": {
    "slideshow": {
     "slide_type": "subslide"
    }
   },
   "source": [
    "* Modification de [`myapp/templates/myapp/name.html`](../edit/myproject/myapp/templates/myapp/name.html)"
   ]
  },
  {
   "cell_type": "code",
   "execution_count": 38,
   "metadata": {},
   "outputs": [],
   "source": [
    "fc.create('myproject/myapp/templates/myapp/name.html',\n",
    "'''{% extends \"myapp/home.html\" %}\n",
    "{% block content %}\n",
    "    <form action=\"/myapp/\" method=\"post\">\n",
    "        {% csrf_token %}\n",
    "        {{ form.emailFrom }}\n",
    "        <input type=\"submit\" value=\"Submit\">\n",
    "    </form>\n",
    "{% endblock content %}''')"
   ]
  },
  {
   "cell_type": "code",
   "execution_count": 39,
   "metadata": {
    "scrolled": false,
    "slideshow": {
     "slide_type": "-"
    }
   },
   "outputs": [
    {
     "data": {
      "text/html": [
       "<h1>Bonjour du template.</h1>\n",
       "\n",
       "    <form action=\"/myapp/\" method=\"post\">\n",
       "        <input type=\"hidden\" name=\"csrfmiddlewaretoken\" value=\"E0q7nD2rWdy3DYfdE2c4u9gjIOENKGvA3shFckvXm5tbd8I0rdM3xrKmuTv2fJ67\">\n",
       "        <input type=\"email\" name=\"emailFrom\" class=\"form-control\" required id=\"id_emailFrom\">\n",
       "        <input type=\"submit\" value=\"Submit\">\n",
       "    </form>\n"
      ],
      "text/plain": [
       "<IPython.core.display.HTML object>"
      ]
     },
     "metadata": {},
     "output_type": "display_data"
    }
   ],
   "source": [
    "content = requests.get('http://127.0.0.1:8000/myapp').text;   display(HTML(content))"
   ]
  },
  {
   "cell_type": "code",
   "execution_count": 40,
   "metadata": {},
   "outputs": [],
   "source": [
    "fc.replace('{{ form.emailFrom }}','{{ form }}', 'myproject/myapp/templates/myapp/name.html')"
   ]
  },
  {
   "cell_type": "code",
   "execution_count": 46,
   "metadata": {
    "scrolled": false,
    "slideshow": {
     "slide_type": "-"
    }
   },
   "outputs": [
    {
     "data": {
      "text/html": [
       "<h1>Bonjour du template.</h1>\n",
       "\n",
       "    <form action=\"/myapp/\" method=\"post\">\n",
       "        <input type=\"hidden\" name=\"csrfmiddlewaretoken\" value=\"CQFvgFeJH5jDqrEAlAkU7dvu7cNxBb2BBGCKWHtBJGj8HFFVSMhZmJ4qSYH1veco\">\n",
       "        <tr><th><label for=\"id_name\">Votre nom :</label></th><td><input type=\"text\" name=\"name\" maxlength=\"100\" class=\"form-control\" required id=\"id_name\"></td></tr>\n",
       "<tr><th><label for=\"id_emailFrom\">Votre adresse email :</label></th><td><input type=\"email\" name=\"emailFrom\" class=\"form-control\" required id=\"id_emailFrom\"></td></tr>\n",
       "<tr><th><label for=\"id_subject\">Le sujet de votre message :</label></th><td><input type=\"text\" name=\"subject\" maxlength=\"100\" class=\"form-control\" required id=\"id_subject\"></td></tr>\n",
       "<tr><th><label for=\"id_message\">Votre message :</label></th><td><textarea name=\"message\" cols=\"40\" rows=\"10\" maxlength=\"1000\" class=\"form-control\" required id=\"id_message\">\n",
       "</textarea></td></tr>\n",
       "<tr><th><label for=\"id_part\">Votre message :</label></th><td><textarea name=\"part\" cols=\"40\" rows=\"10\" maxlength=\"1000\" class=\"form-control\" required id=\"id_part\">\n",
       "</textarea></td></tr>\n",
       "        <input type=\"submit\" value=\"Submit\">\n",
       "    </form>\n"
      ],
      "text/plain": [
       "<IPython.core.display.HTML object>"
      ]
     },
     "metadata": {},
     "output_type": "display_data"
    }
   ],
   "source": [
    "content = requests.get('http://127.0.0.1:8000/myapp').text;   display(HTML(content))"
   ]
  },
  {
   "cell_type": "markdown",
   "metadata": {
    "slideshow": {
     "slide_type": "subslide"
    }
   },
   "source": [
    "# Administration"
   ]
  },
  {
   "cell_type": "code",
   "execution_count": 40,
   "metadata": {
    "slideshow": {
     "slide_type": "-"
    }
   },
   "outputs": [
    {
     "data": {
      "text/html": [
       "<!DOCTYPE html>\n",
       "\n",
       "<html lang=\"en-us\" >\n",
       "<head>\n",
       "<title>Log in | Django site admin</title>\n",
       "<link rel=\"stylesheet\" type=\"text/css\" href=\"/static/admin/css/base.css\">\n",
       "<link rel=\"stylesheet\" type=\"text/css\" href=\"/static/admin/css/login.css\">\n",
       "\n",
       "\n",
       "\n",
       "\n",
       "\n",
       "    <meta name=\"viewport\" content=\"user-scalable=no, width=device-width, initial-scale=1.0, maximum-scale=1.0\">\n",
       "    <link rel=\"stylesheet\" type=\"text/css\" href=\"/static/admin/css/responsive.css\">\n",
       "    \n",
       "\n",
       "<meta name=\"robots\" content=\"NONE,NOARCHIVE\">\n",
       "</head>\n",
       "\n",
       "\n",
       "<body class=\" login\"\n",
       "  data-admin-utc-offset=\"0\">\n",
       "\n",
       "<!-- Container -->\n",
       "<div id=\"container\">\n",
       "\n",
       "    \n",
       "    <!-- Header -->\n",
       "    <div id=\"header\">\n",
       "        <div id=\"branding\">\n",
       "        \n",
       "<h1 id=\"site-name\"><a href=\"/admin/\">Django administration</a></h1>\n",
       "\n",
       "        </div>\n",
       "        \n",
       "        \n",
       "    </div>\n",
       "    <!-- END Header -->\n",
       "    \n",
       "    \n",
       "\n",
       "    \n",
       "        \n",
       "    \n",
       "\n",
       "    <!-- Content -->\n",
       "    <div id=\"content\" class=\"colM\">\n",
       "        \n",
       "        \n",
       "        \n",
       "\n",
       "\n",
       "\n",
       "\n",
       "<div id=\"content-main\">\n",
       "\n",
       "\n",
       "\n",
       "<form action=\"/admin/login/?next=/admin/\" method=\"post\" id=\"login-form\"><input type=\"hidden\" name=\"csrfmiddlewaretoken\" value=\"qwLOUWkzfUezjvW40eY2xKQBqUz5R0tU9BGnqUUe4niH9ydI8pyGUEnM1srfzbYe\">\n",
       "  <div class=\"form-row\">\n",
       "    \n",
       "    <label class=\"required\" for=\"id_username\">Username:</label> <input type=\"text\" name=\"username\" autofocus required id=\"id_username\">\n",
       "  </div>\n",
       "  <div class=\"form-row\">\n",
       "    \n",
       "    <label class=\"required\" for=\"id_password\">Password:</label> <input type=\"password\" name=\"password\" required id=\"id_password\">\n",
       "    <input type=\"hidden\" name=\"next\" value=\"/admin/\">\n",
       "  </div>\n",
       "  \n",
       "  \n",
       "  <div class=\"submit-row\">\n",
       "    <label>&nbsp;</label><input type=\"submit\" value=\"Log in\">\n",
       "  </div>\n",
       "</form>\n",
       "\n",
       "</div>\n",
       "\n",
       "        \n",
       "        <br class=\"clear\">\n",
       "    </div>\n",
       "    <!-- END Content -->\n",
       "\n",
       "    <div id=\"footer\"></div>\n",
       "</div>\n",
       "<!-- END Container -->\n",
       "\n",
       "</body>\n",
       "</html>\n"
      ],
      "text/plain": [
       "<IPython.core.display.HTML object>"
      ]
     },
     "metadata": {},
     "output_type": "display_data"
    }
   ],
   "source": [
    "content = requests.get('http://127.0.0.1:8000/admin').text\n",
    "display(HTML(content))"
   ]
  },
  {
   "cell_type": "markdown",
   "metadata": {
    "slideshow": {
     "slide_type": "slide"
    }
   },
   "source": [
    "# Autres"
   ]
  },
  {
   "cell_type": "markdown",
   "metadata": {
    "slideshow": {
     "slide_type": "subslide"
    }
   },
   "source": [
    "## Versions"
   ]
  },
  {
   "cell_type": "code",
   "execution_count": 20,
   "metadata": {
    "scrolled": true
   },
   "outputs": [
    {
     "name": "stdout",
     "output_type": "stream",
     "text": [
      "# packages in environment at C:\\Users\\mathi\\Anaconda3\\envs\\django_test:\n",
      "#\n",
      "# Name                    Version                   Build  Channel\n",
      "asn1crypto                0.24.0                   py37_0  \n",
      "attrs                     19.1.0                   py37_1  \n",
      "backcall                  0.1.0                    py37_0  \n",
      "beautifulsoup4            4.8.0                    py37_0  \n",
      "bleach                    3.1.0                    py37_0  \n",
      "ca-certificates           2019.5.15                     1  \n",
      "certifi                   2019.6.16                py37_1  \n",
      "cffi                      1.12.3           py37h7a1dbc1_0  \n",
      "chardet                   3.0.4                 py37_1003  \n",
      "colorama                  0.4.1                    py37_0  \n",
      "cryptography              2.7              py37h7a1dbc1_0  \n",
      "decorator                 4.4.0                    py37_1  \n",
      "defusedxml                0.6.0                      py_0  \n",
      "django                    2.2.1                    py37_0  \n",
      "entrypoints               0.3                      py37_0  \n",
      "html5lib                  1.0.1                    py37_0  \n",
      "icu                       58.2                 ha66f8fd_1  \n",
      "idna                      2.8                      py37_0  \n",
      "ipykernel                 5.1.2            py37h39e3cac_0  \n",
      "ipython                   7.8.0            py37h39e3cac_0  \n",
      "ipython_genutils          0.2.0                    py37_0  \n",
      "ipywidgets                7.5.1                      py_0  \n",
      "jedi                      0.15.1                   py37_0  \n",
      "jinja2                    2.10.1                   py37_0  \n",
      "jpeg                      9b                   hb83a4c4_2  \n",
      "jsonschema                3.0.2                    py37_0  \n",
      "jupyter                   1.0.0                    py37_7  \n",
      "jupyter-contrib-core      0.3.3                    pypi_0    pypi\n",
      "jupyter-contrib-nbextensions 0.5.1                    pypi_0    pypi\n",
      "jupyter-highlight-selected-word 0.2.0                    pypi_0    pypi\n",
      "jupyter-latex-envs        1.4.6                    pypi_0    pypi\n",
      "jupyter-nbextensions-configurator 0.4.1                    pypi_0    pypi\n",
      "jupyter_client            5.3.1                      py_0  \n",
      "jupyter_console           6.0.0                    py37_0  \n",
      "jupyter_core              4.5.0                      py_0  \n",
      "libiconv                  1.15                 h1df5818_7  \n",
      "libpng                    1.6.37               h2a8f88b_0  \n",
      "libsodium                 1.0.16               h9d3ae62_0  \n",
      "libxml2                   2.9.9                h464c3ec_0  \n",
      "libxslt                   1.1.33               h579f668_0  \n",
      "lxml                      4.4.1            py37h1350720_0  \n",
      "m2w64-gcc-libgfortran     5.3.0                         6  \n",
      "m2w64-gcc-libs            5.3.0                         7  \n",
      "m2w64-gcc-libs-core       5.3.0                         7  \n",
      "m2w64-gmp                 6.1.0                         2  \n",
      "m2w64-libwinpthread-git   5.0.0.4634.697f757               2  \n",
      "markupsafe                1.1.1            py37he774522_0  \n",
      "mistune                   0.8.4            py37he774522_0  \n",
      "msys2-conda-epoch         20160418                      1  \n",
      "nb_conda                  2.2.1                    py37_0  \n",
      "nb_conda_kernels          2.2.2                    py37_0  \n",
      "nbconvert                 5.5.0                      py_0  \n",
      "nbformat                  4.4.0                    py37_0  \n",
      "notebook                  6.0.1                    py37_0  \n",
      "openssl                   1.1.1d               he774522_0  \n",
      "pandoc                    2.2.3.2                       0  \n",
      "pandocfilters             1.4.2                    py37_1  \n",
      "parso                     0.5.1                      py_0  \n",
      "pickleshare               0.7.5                    py37_0  \n",
      "pip                       19.2.2                   py37_0  \n",
      "prometheus_client         0.7.1                      py_0  \n",
      "prompt_toolkit            2.0.9                    py37_0  \n",
      "pycparser                 2.19                     py37_0  \n",
      "pygments                  2.4.2                      py_0  \n",
      "pyopenssl                 19.0.0                   py37_0  \n",
      "pyqt                      5.9.2            py37h6538335_2  \n",
      "pyrsistent                0.14.11          py37he774522_0  \n",
      "pysed                     0.7.8                    pypi_0    pypi\n",
      "pysocks                   1.7.0                    py37_0  \n",
      "python                    3.7.4                h5263a28_0  \n",
      "python-dateutil           2.8.0                    py37_0  \n",
      "python-graphviz           0.13                     pypi_0    pypi\n",
      "pytz                      2019.2                     py_0  \n",
      "pywinpty                  0.5.5                 py37_1000  \n",
      "pyyaml                    5.1.2                    pypi_0    pypi\n",
      "pyzmq                     18.1.0           py37ha925a31_0  \n",
      "qt                        5.9.7            vc14h73c81de_0  \n",
      "qtconsole                 4.5.5                      py_0  \n",
      "requests                  2.22.0                   py37_0  \n",
      "rise                      5.4.1                 py37_1000  \n",
      "send2trash                1.5.0                    py37_0  \n",
      "setuptools                41.0.1                   py37_0  \n",
      "sip                       4.19.8           py37h6538335_0  \n",
      "six                       1.12.0                   py37_0  \n",
      "soupsieve                 1.9.2                    py37_0  \n",
      "sqlite                    3.29.0               he774522_0  \n",
      "sqlparse                  0.3.0                      py_0  \n",
      "terminado                 0.8.2                    py37_0  \n",
      "testpath                  0.4.2                    py37_0  \n",
      "tornado                   6.0.3            py37he774522_0  \n",
      "traitlets                 4.3.2                    py37_0  \n",
      "urllib3                   1.24.2                   py37_0  \n",
      "vc                        14.1                 h0510ff6_4  \n",
      "vs2015_runtime            14.16.27012          hf0eaf9b_0  \n",
      "wcwidth                   0.1.7                    py37_0  \n",
      "webencodings              0.5.1                    py37_1  \n",
      "werkzeug                  0.16.0                   pypi_0    pypi\n",
      "wheel                     0.33.4                   py37_0  \n",
      "widgetsnbextension        3.5.1                    py37_0  \n",
      "win_inet_pton             1.1.0                    py37_0  \n",
      "wincertstore              0.2                      py37_0  \n",
      "winpty                    0.4.3                         4  \n",
      "zeromq                    4.3.1                h33f27b4_3  \n",
      "zlib                      1.2.11               h62dcd97_3  \n"
     ]
    }
   ],
   "source": [
    "!conda list"
   ]
  },
  {
   "cell_type": "markdown",
   "metadata": {
    "slideshow": {
     "slide_type": "subslide"
    }
   },
   "source": [
    "## Nettoyage\n",
    "* Suppression de l'environnement conda : `conda remove --name django_test --all`\n",
    "* Suppresion du projet :"
   ]
  },
  {
   "cell_type": "code",
   "execution_count": 49,
   "metadata": {
    "slideshow": {
     "slide_type": "-"
    }
   },
   "outputs": [],
   "source": [
    "import shutil\n",
    "shutil.rmtree('myproject')"
   ]
  }
 ],
 "metadata": {
  "celltoolbar": "Diaporama",
  "hide_input": false,
  "kernelspec": {
   "display_name": "Python 3",
   "language": "python",
   "name": "python3"
  },
  "language_info": {
   "codemirror_mode": {
    "name": "ipython",
    "version": 3
   },
   "file_extension": ".py",
   "mimetype": "text/x-python",
   "name": "python",
   "nbconvert_exporter": "python",
   "pygments_lexer": "ipython3",
   "version": "3.7.4"
  },
  "toc": {
   "base_numbering": 1,
   "nav_menu": {
    "height": "290px",
    "width": "278px"
   },
   "number_sections": true,
   "sideBar": true,
   "skip_h1_title": false,
   "title_cell": "Table of Contents",
   "title_sidebar": "Contents",
   "toc_cell": true,
   "toc_position": {
    "height": "calc(100% - 180px)",
    "left": "10px",
    "top": "150px",
    "width": "236px"
   },
   "toc_section_display": true,
   "toc_window_display": false
  },
  "varInspector": {
   "cols": {
    "lenName": 16,
    "lenType": 16,
    "lenVar": 40
   },
   "kernels_config": {
    "python": {
     "delete_cmd_postfix": "",
     "delete_cmd_prefix": "del ",
     "library": "var_list.py",
     "varRefreshCmd": "print(var_dic_list())"
    },
    "r": {
     "delete_cmd_postfix": ") ",
     "delete_cmd_prefix": "rm(",
     "library": "var_list.r",
     "varRefreshCmd": "cat(var_dic_list()) "
    }
   },
   "types_to_exclude": [
    "module",
    "function",
    "builtin_function_or_method",
    "instance",
    "_Feature"
   ],
   "window_display": false
  },
  "widgets": {
   "application/vnd.jupyter.widget-state+json": {
    "state": {},
    "version_major": 2,
    "version_minor": 0
   }
  }
 },
 "nbformat": 4,
 "nbformat_minor": 2
}
